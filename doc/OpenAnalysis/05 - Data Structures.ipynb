{
 "cells": [
  {
   "cell_type": "markdown",
   "metadata": {},
   "source": [
    "# Data Structures\n",
    "\n",
    "Data structures are a concrete implementation of the specification provided by one or more particular abstract data types (ADT), which specify the operations that can be performed on a data structure and the computational complexity of those operations.\n",
    "\n",
    "Different kinds of data structures are suited for different kinds of applications, and some are highly specialized to specific tasks. For example, relational databases commonly use B-tree indexes for data retrieval, while compiler implementations usually use hash tables to look up identifiers.\n",
    "\n",
    "Usually, efficient data structures are key to designing efficient algorithms."
   ]
  },
  {
   "cell_type": "markdown",
   "metadata": {},
   "source": [
    "## Standard `import` statement"
   ]
  },
  {
   "cell_type": "code",
   "execution_count": 1,
   "metadata": {
    "collapsed": true
   },
   "outputs": [],
   "source": [
    "from openanalysis.data_structures import DataStructureBase, DataStructureVisualization\n",
    "import gi.repository.Gtk as gtk   # for displaying GUI dialogs"
   ]
  },
  {
   "cell_type": "markdown",
   "metadata": {},
   "source": [
    "`DataStructureBase` is the base class for implementing data structures  \n",
    "`DataStructureVisualization` is the class that visualizes data structures in GUI"
   ]
  },
  {
   "cell_type": "markdown",
   "metadata": {},
   "source": [
    "## `DataStructureBase` class\n",
    "\n",
    "Any data structure, which is to be implemented, has to be derived from this class. Now we shall see data members and member functions of this class:\n",
    "\n",
    "### Data Members\n",
    "\n",
    "- `name` -  Name of the DS\n",
    "- `file_path` - Path to store output of DS operations\n",
    "\n",
    "### Member Functions\n",
    "\n",
    "- `__init__(self, name, file_path)` - Initializes DS with a `name` and a `file_path` to store the output\n",
    "- `insert(self, item)` - Inserts `item` into the DS\n",
    "- `delete(Self, item)` - Deletes `item` from the DS, <br/>&emsp;&emsp;&emsp;&emsp;&emsp;&emsp;&emsp;&emsp;&emsp;&emsp;&emsp;&nbsp;if `item` is not present in the DS, throws a `ValueError`  \n",
    "- `find(self, item)` - Finds the `item` in the DS\n",
    "<br/>&emsp;&emsp;&emsp;&emsp;&emsp;&emsp;&emsp;&emsp;&emsp;&emsp;returns `True` if found, else returns `False`<br/>&emsp;&emsp;&emsp;&emsp;&emsp;&emsp;&emsp;&emsp;&emsp;&emsp;similar to `__contains__(self, item)`\n",
    "- `get_root(self)` - Returns the root (for graph and tree DS)\n",
    "- `get_graph(self, rt)` -  Gets the `dict` representation between the parent and children (for graph and tree DS)\n",
    "- `draw(self, nth=None)` - Draws the output to visualize the operations performed on the DS<br/>&emsp;&emsp;&emsp;&emsp;&emsp;&emsp;&emsp;&emsp;&emsp;&emsp;&emsp;&emsp;&nbsp;`nth` is used to pass an `item` to visualize a find operation"
   ]
  },
  {
   "cell_type": "markdown",
   "metadata": {},
   "source": [
    "## `DataStructureVisualization` class\n",
    "\n",
    "This class is used for visualizing data structures in a GUI (using GTK+ 3). Now we shall see data members and member functions of this class:\n",
    "\n",
    "### Data Members\n",
    "\n",
    "- `ds` -  Any DS, which is an instance of DataStructureBase\n",
    "\n",
    "### Member Functions\n",
    "\n",
    "- `__init__(self, ds)` - Initializes `ds` with an instance of DS that is to be visualized\n",
    "- `run(self)` - Opens a GUI window to visualize the DS operations"
   ]
  },
  {
   "cell_type": "markdown",
   "metadata": {},
   "source": [
    "## An example ..... Binary Search Tree\n",
    "\n",
    "Now we shall implement the class `BinarySearchTree`"
   ]
  },
  {
   "cell_type": "code",
   "execution_count": 2,
   "metadata": {
    "collapsed": true
   },
   "outputs": [],
   "source": [
    "class BinarySearchTree(DataStructureBase):                        # Derived from DataStructureBase\n",
    "    \n",
    "    class Node:                                                   # Class for creating a node\n",
    "        def __init__(self, data):\n",
    "            self.left = None\n",
    "            self.right = None\n",
    "            self.data = data\n",
    "\n",
    "        def __str__(self):\n",
    "            return str(self.data)\n",
    "\n",
    "    def __init__(self):\n",
    "        DataStructureBase.__init__(self, \"Binary Search Tree\", \"t.png\")       # Initializing with name and path\n",
    "        self.root = None\n",
    "        self.count = 0\n",
    "\n",
    "    def get_root(self):                                            # Returns root node of the tree\n",
    "        return self.root\n",
    "\n",
    "    def insert(self, item):                                        # Inserts item into the tree\n",
    "        newNode = BinarySearchTree.Node(item)\n",
    "        insNode = self.root\n",
    "        parent = None\n",
    "        while insNode is not None:\n",
    "            parent = insNode\n",
    "            if insNode.data > newNode.data:\n",
    "                insNode = insNode.left\n",
    "            else:\n",
    "                insNode = insNode.right\n",
    "        if parent is None:\n",
    "            self.root = newNode\n",
    "        else:\n",
    "            if parent.data > newNode.data:\n",
    "                parent.left = newNode\n",
    "            else:\n",
    "                parent.right = newNode\n",
    "        self.count += 1\n",
    "\n",
    "    def find(self, item):                                           # Finds if item is present in tree or not\n",
    "        node = self.root\n",
    "        while node is not None:\n",
    "            if item < node.data:\n",
    "                node = node.left\n",
    "            elif item > node.data:\n",
    "                node = node.right\n",
    "            else:\n",
    "                return True\n",
    "        return False\n",
    "    \n",
    "    def min_value_node(self):                                       # Returns the minimum value node\n",
    "        current = self.root\n",
    "        while current.left is not None:\n",
    "            current = current.left\n",
    "        return current\n",
    "\n",
    "    def delete(self, item):                                         # Deletes item from tree if present\n",
    "                                                                    # else shows Value Error\n",
    "        if item not in self:\n",
    "            dialog = gtk.MessageDialog(None, 0, gtk.MessageType.ERROR,\n",
    "                                       gtk.ButtonsType.CANCEL, \"Value not found ERROR\")\n",
    "            dialog.format_secondary_text(\n",
    "                \"Element not found in the %s\" % self.name)\n",
    "            dialog.run()\n",
    "            dialog.destroy()\n",
    "        else:\n",
    "            self.count -= 1\n",
    "            if self.root.data == item and (self.root.left is None or self.root.right is None):\n",
    "                if self.root.left is None and self.root.right is None:\n",
    "                    self.root = None\n",
    "                elif self.root.data == item and self.root.left is None:\n",
    "                    self.root = self.root.right\n",
    "                elif self.root.data == item and self.root.right is None:\n",
    "                    self.root = self.root.left\n",
    "                return self.root\n",
    "            if item < self.root.data:\n",
    "                temp = self.root\n",
    "                self.root = self.root.left\n",
    "                temp.left = self.delete(item)\n",
    "                self.root = temp\n",
    "            elif item > self.root.data:\n",
    "                temp = self.root\n",
    "                self.root = self.root.right\n",
    "                temp.right = self.delete(item)\n",
    "                self.root = temp\n",
    "            else:\n",
    "                if self.root.left is None:\n",
    "                    return self.root.right\n",
    "                elif self.root.right is None:\n",
    "                    return self.root.left\n",
    "                temp = self.root\n",
    "                self.root = self.root.right\n",
    "                min_node = self.min_value_node()\n",
    "                temp.data = min_node.data\n",
    "                temp.right = self.delete(min_node.data)\n",
    "                self.root = temp\n",
    "            return self.root\n",
    "\n",
    "    def get_graph(self, rt):                                            # Populates self.graph with elements depending\n",
    "                                                                        # upon the parent-children relation\n",
    "        if rt is None:\n",
    "            return\n",
    "        self.graph[rt.data] = {}\n",
    "        if rt.left is not None:\n",
    "            self.graph[rt.data][rt.left.data] = {'child_status': 'left'}\n",
    "            self.get_graph(rt.left)\n",
    "        if rt.right is not None:\n",
    "            self.graph[rt.data][rt.right.data] = {'child_status': 'right'}\n",
    "            self.get_graph(rt.right)"
   ]
  },
  {
   "cell_type": "markdown",
   "metadata": {},
   "source": [
    "Now, this program can be executed as follows:"
   ]
  },
  {
   "cell_type": "code",
   "metadata": {},
   "source": [
    "DataStructureVisualization(BinarySearchTree).run()"
   ]
  },
  {
   "cell_type": "code",
   "execution_count": 3,
   "metadata": {
    "hide_input": true
   },
   "outputs": [
    {
     "data": {
      "text/html": [
       "<iframe width=\"560\" height=\"315\" src=\"../res/bst.mp4\" frameborder=\"0\" allowfullscreen></iframe>"
      ],
      "text/plain": [
       "<IPython.core.display.HTML object>"
      ]
     },
     "execution_count": 3,
     "metadata": {},
     "output_type": "execute_result"
    }
   ],
   "source": [
    "# Ignore this code block\n",
    "from IPython.display import HTML\n",
    "\n",
    "HTML('''<iframe width=\"560\" height=\"315\" src=\"../res/bst.mp4\" frameborder=\"0\" allowfullscreen></iframe>''')"
   ]
  },
  {
   "cell_type": "markdown",
   "metadata": {
    "collapsed": true
   },
   "source": [
    "## Example File\n",
    "\n",
    "You can see more examples at [Github](https://github.com/OpenWeavers/openanalysis/blob/master/analysistest/data_structures.py)"
   ]
  }
 ],
 "metadata": {
  "kernelspec": {
   "display_name": "Python 3",
   "language": "python",
   "name": "python3"
  },
  "language_info": {
   "codemirror_mode": {
    "name": "ipython",
    "version": 3
   },
   "file_extension": ".py",
   "mimetype": "text/x-python",
   "name": "python",
   "nbconvert_exporter": "python",
   "pygments_lexer": "ipython3",
   "version": "3.5.3"
  }
 },
 "nbformat": 4,
 "nbformat_minor": 2
}

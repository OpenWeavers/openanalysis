{
 "cells": [
  {
   "cell_type": "markdown",
   "metadata": {},
   "source": [
    "# Introduction to Graph Analysis with `networkx`\n",
    "\n",
    "Graph theory deals with various properties and algorithms concerned with Graphs. Although it is very easy to implement a Graph ADT in Python, we will use `networkx` library for Graph Analysis as it has inbuilt support for visualizing graphs. In future versions of `networkx`, graph visualization might be removed. When this happens, it is required to modify some parts of this chapter\n",
    "\n",
    "## Standard `import` statement\n",
    "\n",
    "Throughout this tutorial, we assume that you have imported `networkx` as follows"
   ]
  },
  {
   "cell_type": "code",
   "execution_count": 37,
   "metadata": {
    "collapsed": true
   },
   "outputs": [],
   "source": [
    "import networkx as nx"
   ]
  },
  {
   "cell_type": "markdown",
   "metadata": {},
   "source": [
    "## Creating Graphs\n",
    "Create an empty graph with no nodes and no edges."
   ]
  },
  {
   "cell_type": "code",
   "execution_count": 2,
   "metadata": {
    "collapsed": true
   },
   "outputs": [],
   "source": [
    "G = nx.Graph()"
   ]
  },
  {
   "cell_type": "markdown",
   "metadata": {},
   "source": [
    "By definition, a `Graph` is a collection of nodes (vertices) along with identified pairs of nodes (called edges, links, etc). In NetworkX, nodes can be any hashable object e.g. a text string, an image, an XML object, another Graph, a customized node object, etc. (Note: Python's None object should not be used as a node as it determines whether optional function arguments have been assigned in many functions.)"
   ]
  },
  {
   "cell_type": "markdown",
   "metadata": {},
   "source": [
    "## Nodes\n",
    "The graph `G` can be grown in several ways. NetworkX includes many graph generator functions and facilities to read and write graphs in many formats. To get started, we'll look at simple manipulations. You can add one node at a time,"
   ]
  },
  {
   "cell_type": "code",
   "execution_count": 3,
   "metadata": {
    "collapsed": true
   },
   "outputs": [],
   "source": [
    "G.add_node(1)"
   ]
  },
  {
   "cell_type": "markdown",
   "metadata": {},
   "source": [
    "add a list of nodes,"
   ]
  },
  {
   "cell_type": "code",
   "execution_count": 4,
   "metadata": {
    "collapsed": true
   },
   "outputs": [],
   "source": [
    "G.add_nodes_from([2,3])"
   ]
  },
  {
   "cell_type": "markdown",
   "metadata": {},
   "source": [
    "## Edges\n",
    "\n",
    "G can also be grown by adding one edge at a time,"
   ]
  },
  {
   "cell_type": "code",
   "execution_count": 5,
   "metadata": {
    "collapsed": true
   },
   "outputs": [],
   "source": [
    "G.add_edge(1,2)\n",
    "e=(2,3)\n",
    "G.add_edge(*e)  # Unpacking tuple"
   ]
  },
  {
   "cell_type": "markdown",
   "metadata": {},
   "source": [
    "by adding a list of edges,"
   ]
  },
  {
   "cell_type": "code",
   "execution_count": 6,
   "metadata": {
    "collapsed": true
   },
   "outputs": [],
   "source": [
    "G.add_edges_from([(1,2),(1,3)])"
   ]
  },
  {
   "cell_type": "markdown",
   "metadata": {},
   "source": [
    "we add new nodes/edges and NetworkX quietly ignores any that are already present. \n",
    "\n",
    "At this stage the graph G consists of 3 nodes and 3 edges, as can be seen by:"
   ]
  },
  {
   "cell_type": "code",
   "execution_count": 7,
   "metadata": {},
   "outputs": [
    {
     "data": {
      "text/plain": [
       "3"
      ]
     },
     "execution_count": 7,
     "metadata": {},
     "output_type": "execute_result"
    }
   ],
   "source": [
    "G.number_of_nodes()"
   ]
  },
  {
   "cell_type": "code",
   "execution_count": 8,
   "metadata": {},
   "outputs": [
    {
     "data": {
      "text/plain": [
       "3"
      ]
     },
     "execution_count": 8,
     "metadata": {},
     "output_type": "execute_result"
    }
   ],
   "source": [
    "G.number_of_edges()"
   ]
  },
  {
   "cell_type": "markdown",
   "metadata": {},
   "source": [
    "## Accessing edges\n",
    "\n",
    "In addition to the methods `Graph.nodes`, `Graph.edges`, and `Graph.neighbors`, iterator versions (e.g. `Graph.edges_iter`) can save you from creating large lists when you are just going to iterate through them anyway.\n",
    "\n",
    "Fast direct access to the graph data structure is also possible using subscript notation.\n",
    "\n",
    "Warning\n",
    "\n",
    "Do not change the returned dict--it is part of the graph data structure and direct manipulation may leave the graph in an inconsistent state."
   ]
  },
  {
   "cell_type": "code",
   "execution_count": 9,
   "metadata": {},
   "outputs": [
    {
     "data": {
      "text/plain": [
       "[1, 2, 3]"
      ]
     },
     "execution_count": 9,
     "metadata": {},
     "output_type": "execute_result"
    }
   ],
   "source": [
    "G.nodes()"
   ]
  },
  {
   "cell_type": "code",
   "execution_count": 10,
   "metadata": {},
   "outputs": [
    {
     "data": {
      "text/plain": [
       "[(1, 2), (1, 3), (2, 3)]"
      ]
     },
     "execution_count": 10,
     "metadata": {},
     "output_type": "execute_result"
    }
   ],
   "source": [
    "G.edges()"
   ]
  },
  {
   "cell_type": "code",
   "execution_count": 11,
   "metadata": {},
   "outputs": [
    {
     "data": {
      "text/plain": [
       "{2: {}, 3: {}}"
      ]
     },
     "execution_count": 11,
     "metadata": {},
     "output_type": "execute_result"
    }
   ],
   "source": [
    "G[1]"
   ]
  },
  {
   "cell_type": "code",
   "execution_count": 12,
   "metadata": {},
   "outputs": [
    {
     "data": {
      "text/plain": [
       "{}"
      ]
     },
     "execution_count": 12,
     "metadata": {},
     "output_type": "execute_result"
    }
   ],
   "source": [
    "G[1][2]"
   ]
  },
  {
   "cell_type": "markdown",
   "metadata": {},
   "source": [
    "You can safely set the attributes of an edge using subscript notation if the edge already exists."
   ]
  },
  {
   "cell_type": "code",
   "execution_count": 13,
   "metadata": {
    "collapsed": true
   },
   "outputs": [],
   "source": [
    "G[1][2]['weight'] = 10"
   ]
  },
  {
   "cell_type": "code",
   "execution_count": 14,
   "metadata": {},
   "outputs": [
    {
     "data": {
      "text/plain": [
       "{'weight': 10}"
      ]
     },
     "execution_count": 14,
     "metadata": {},
     "output_type": "execute_result"
    }
   ],
   "source": [
    "G[1][2]"
   ]
  },
  {
   "cell_type": "markdown",
   "metadata": {},
   "source": [
    "Fast examination of all edges is achieved using adjacency iterators. Note that for undirected graphs this actually looks at each edge twice."
   ]
  },
  {
   "cell_type": "code",
   "execution_count": 15,
   "metadata": {},
   "outputs": [
    {
     "name": "stdout",
     "output_type": "stream",
     "text": [
      "(1, 2, 0.125)\n",
      "(2, 1, 0.125)\n",
      "(3, 4, 0.375)\n",
      "(4, 3, 0.375)\n"
     ]
    }
   ],
   "source": [
    "FG=nx.Graph()\n",
    "FG.add_weighted_edges_from([(1,2,0.125),(1,3,0.75),(2,4,1.2),(3,4,0.375)])\n",
    "for n,nbrs in FG.adjacency_iter():\n",
    "    for nbr,eattr in nbrs.items():\n",
    "        data=eattr['weight']\n",
    "        if data<0.5: print('(%d, %d, %.3f)' % (n,nbr,data))"
   ]
  },
  {
   "cell_type": "code",
   "execution_count": 16,
   "metadata": {},
   "outputs": [
    {
     "data": {
      "text/plain": [
       "[(1, {2: {'weight': 0.125}, 3: {'weight': 0.75}}),\n",
       " (2, {1: {'weight': 0.125}, 4: {'weight': 1.2}}),\n",
       " (3, {1: {'weight': 0.75}, 4: {'weight': 0.375}}),\n",
       " (4, {2: {'weight': 1.2}, 3: {'weight': 0.375}})]"
      ]
     },
     "execution_count": 16,
     "metadata": {},
     "output_type": "execute_result"
    }
   ],
   "source": [
    "list(FG.adjacency_iter())"
   ]
  },
  {
   "cell_type": "markdown",
   "metadata": {},
   "source": [
    "Convenient access to all edges is achieved with the `edges` method."
   ]
  },
  {
   "cell_type": "code",
   "execution_count": 17,
   "metadata": {},
   "outputs": [
    {
     "name": "stdout",
     "output_type": "stream",
     "text": [
      "(4, 3, 0.125)\n",
      "(4, 3, 0.375)\n"
     ]
    }
   ],
   "source": [
    "for (u,v,d) in FG.edges(data='weight'):\n",
    "     if d<0.5: print('(%d, %d, %.3f)'%(n,nbr,d))"
   ]
  },
  {
   "cell_type": "markdown",
   "metadata": {},
   "source": [
    "## Adding attributes to graphs, nodes, and edges\n",
    "\n",
    "Attributes such as weights, labels, colors, or whatever Python object you like, can be attached to graphs, nodes, or edges.\n",
    "\n",
    "Each graph, node, and edge can hold key/value attribute pairs in an associated attribute dictionary (the keys must be hashable). By default these are empty, but attributes can be added or changed using add_edge, add_node or direct manipulation of the attribute dictionaries named G.graph, G.node and G.edge for a graph G.\n",
    "\n",
    "### Graph attributes\n",
    "\n",
    "Assign graph attributes when creating a new graph"
   ]
  },
  {
   "cell_type": "code",
   "execution_count": 18,
   "metadata": {},
   "outputs": [
    {
     "data": {
      "text/plain": [
       "{'day': 'Friday'}"
      ]
     },
     "execution_count": 18,
     "metadata": {},
     "output_type": "execute_result"
    }
   ],
   "source": [
    "G = nx.Graph(day=\"Friday\")\n",
    "G.graph"
   ]
  },
  {
   "cell_type": "markdown",
   "metadata": {},
   "source": [
    "Or you can modify attributes later"
   ]
  },
  {
   "cell_type": "code",
   "execution_count": 19,
   "metadata": {},
   "outputs": [
    {
     "data": {
      "text/plain": [
       "{'day': 'Monday'}"
      ]
     },
     "execution_count": 19,
     "metadata": {},
     "output_type": "execute_result"
    }
   ],
   "source": [
    "G.graph['day']='Monday'\n",
    "G.graph"
   ]
  },
  {
   "cell_type": "markdown",
   "metadata": {},
   "source": [
    "### Node attributes\n",
    "\n",
    "Add node attributes using `add_node()`, `add_nodes_from()` or G.node"
   ]
  },
  {
   "cell_type": "code",
   "execution_count": 20,
   "metadata": {
    "collapsed": true
   },
   "outputs": [],
   "source": [
    "G.add_node(1,time = '5pm')"
   ]
  },
  {
   "cell_type": "code",
   "execution_count": 21,
   "metadata": {
    "collapsed": true
   },
   "outputs": [],
   "source": [
    "G.add_nodes_from([3], time='2pm')"
   ]
  },
  {
   "cell_type": "code",
   "execution_count": 22,
   "metadata": {},
   "outputs": [
    {
     "data": {
      "text/plain": [
       "{'time': '5pm'}"
      ]
     },
     "execution_count": 22,
     "metadata": {},
     "output_type": "execute_result"
    }
   ],
   "source": [
    "G.node[1]"
   ]
  },
  {
   "cell_type": "code",
   "execution_count": 23,
   "metadata": {
    "collapsed": true
   },
   "outputs": [],
   "source": [
    "G.node[1]['room'] = 714"
   ]
  },
  {
   "cell_type": "code",
   "execution_count": 24,
   "metadata": {},
   "outputs": [
    {
     "data": {
      "text/plain": [
       "[(1, {'room': 714, 'time': '5pm'}), (3, {'time': '2pm'})]"
      ]
     },
     "execution_count": 24,
     "metadata": {},
     "output_type": "execute_result"
    }
   ],
   "source": [
    "G.nodes(data=True)"
   ]
  },
  {
   "cell_type": "markdown",
   "metadata": {},
   "source": [
    "Note that adding a node to `G.node` does not add it to the graph, use `G.add_node()` to add new nodes."
   ]
  },
  {
   "cell_type": "markdown",
   "metadata": {},
   "source": [
    "### Edge Attributes\n",
    "\n",
    "Add edge attributes using `add_edge()`, `add_edges_from()`, subscript notation, or G.edge."
   ]
  },
  {
   "cell_type": "code",
   "execution_count": 25,
   "metadata": {
    "collapsed": true
   },
   "outputs": [],
   "source": [
    "G.add_edge(1, 2, weight=4.7 )"
   ]
  },
  {
   "cell_type": "code",
   "execution_count": 26,
   "metadata": {},
   "outputs": [
    {
     "data": {
      "text/plain": [
       "{'weight': 4.7}"
      ]
     },
     "execution_count": 26,
     "metadata": {},
     "output_type": "execute_result"
    }
   ],
   "source": [
    "G[1][2]"
   ]
  },
  {
   "cell_type": "code",
   "execution_count": 27,
   "metadata": {
    "collapsed": true
   },
   "outputs": [],
   "source": [
    "G.add_edges_from([(3,4),(4,5)], color='red')"
   ]
  },
  {
   "cell_type": "code",
   "execution_count": 28,
   "metadata": {
    "collapsed": true
   },
   "outputs": [],
   "source": [
    "G.add_edges_from([(1,2,{'color':'blue'}), (2,3,{'weight':8})])"
   ]
  },
  {
   "cell_type": "code",
   "execution_count": 29,
   "metadata": {
    "collapsed": true
   },
   "outputs": [],
   "source": [
    "G[1][2]['weight'] = 4.7"
   ]
  },
  {
   "cell_type": "code",
   "execution_count": 30,
   "metadata": {
    "collapsed": true
   },
   "outputs": [],
   "source": [
    "G.edge[1][2]['weight'] = 4"
   ]
  },
  {
   "cell_type": "code",
   "execution_count": 31,
   "metadata": {},
   "outputs": [
    {
     "data": {
      "text/plain": [
       "[(1, 2, {'color': 'blue', 'weight': 4}),\n",
       " (2, 3, {'weight': 8}),\n",
       " (3, 4, {'color': 'red'}),\n",
       " (4, 5, {'color': 'red'})]"
      ]
     },
     "execution_count": 31,
     "metadata": {},
     "output_type": "execute_result"
    }
   ],
   "source": [
    "G.edges(data=True)"
   ]
  },
  {
   "cell_type": "markdown",
   "metadata": {},
   "source": [
    "## Converting Graph to Adjacency matrix\n",
    "\n",
    "You can use `nx.to_numpy_matrix(G)` to convert `G` to `numpy` matrix. If the graph is weighted, the elements of the matrix are weights. If an edge doesn't exsist, its value will be 0, not Infinity. You have to manually modify those values to Infinity (`float('inf')`)"
   ]
  },
  {
   "cell_type": "code",
   "execution_count": 32,
   "metadata": {},
   "outputs": [
    {
     "data": {
      "text/plain": [
       "matrix([[ 0.,  4.,  0.,  0.,  0.],\n",
       "        [ 4.,  0.,  8.,  0.,  0.],\n",
       "        [ 0.,  8.,  0.,  1.,  0.],\n",
       "        [ 0.,  0.,  1.,  0.,  1.],\n",
       "        [ 0.,  0.,  0.,  1.,  0.]])"
      ]
     },
     "execution_count": 32,
     "metadata": {},
     "output_type": "execute_result"
    }
   ],
   "source": [
    "nx.to_numpy_matrix(G)"
   ]
  },
  {
   "cell_type": "code",
   "execution_count": 33,
   "metadata": {},
   "outputs": [
    {
     "data": {
      "text/plain": [
       "matrix([[ 0.   ,  0.125,  0.75 ,  0.   ],\n",
       "        [ 0.125,  0.   ,  0.   ,  1.2  ],\n",
       "        [ 0.75 ,  0.   ,  0.   ,  0.375],\n",
       "        [ 0.   ,  1.2  ,  0.375,  0.   ]])"
      ]
     },
     "execution_count": 33,
     "metadata": {},
     "output_type": "execute_result"
    }
   ],
   "source": [
    "nx.to_numpy_matrix(FG)"
   ]
  },
  {
   "cell_type": "markdown",
   "metadata": {},
   "source": [
    "## Drawing graphs\n",
    "\n",
    "NetworkX is not primarily a graph drawing package but basic drawing with Matplotlib as well as an interface to use the open source Graphviz software package are included. These are part of the networkx.drawing package and will be imported if possible"
   ]
  },
  {
   "cell_type": "code",
   "execution_count": 34,
   "metadata": {
    "collapsed": true
   },
   "outputs": [],
   "source": [
    "%matplotlib inline\n",
    "import matplotlib.pyplot as plt"
   ]
  },
  {
   "cell_type": "code",
   "execution_count": 35,
   "metadata": {},
   "outputs": [
    {
     "data": {
      "application/pdf": "[encoded data removed]",
      "image/svg+xml": [
       "<?xml version=\"1.0\" encoding=\"utf-8\" standalone=\"no\"?>\n",
       "<!DOCTYPE svg PUBLIC \"-//W3C//DTD SVG 1.1//EN\"\n",
       "  \"http://www.w3.org/Graphics/SVG/1.1/DTD/svg11.dtd\">\n",
       "<!-- Created with matplotlib (http://matplotlib.org/) -->\n",
       "<svg height=\"322pt\" version=\"1.1\" viewBox=\"0 0 472 322\" width=\"472pt\" xmlns=\"http://www.w3.org/2000/svg\" xmlns:xlink=\"http://www.w3.org/1999/xlink\">\n",
       " <defs>\n",
       "  <style type=\"text/css\">\n",
       "*{stroke-linecap:butt;stroke-linejoin:round;}\n",
       "  </style>\n",
       " </defs>\n",
       " <g id=\"figure_1\">\n",
       "  <g id=\"patch_1\">\n",
       "   <path d=\"M 0 322.578125 \n",
       "L 472.803125 322.578125 \n",
       "L 472.803125 0 \n",
       "L 0 0 \n",
       "z\n",
       "\" style=\"fill:#ffffff;\"/>\n",
       "  </g>\n",
       "  <g id=\"axes_1\">\n",
       "   <g id=\"LineCollection_1\">\n",
       "    <path clip-path=\"url(#p6ea6e35cb0)\" d=\"M 204.487559 273.708264 \n",
       "L 233.782113 35.691736 \n",
       "\" style=\"fill:none;stroke:#000000;\"/>\n",
       "    <path clip-path=\"url(#p6ea6e35cb0)\" d=\"M 204.487559 273.708264 \n",
       "L 424.615522 221.498691 \n",
       "\" style=\"fill:none;stroke:#000000;\"/>\n",
       "    <path clip-path=\"url(#p6ea6e35cb0)\" d=\"M 233.782113 35.691736 \n",
       "L 67.590728 96.382273 \n",
       "\" style=\"fill:none;stroke:#000000;\"/>\n",
       "    <path clip-path=\"url(#p6ea6e35cb0)\" d=\"M 424.615522 221.498691 \n",
       "L 67.590728 96.382273 \n",
       "\" style=\"fill:none;stroke:#000000;\"/>\n",
       "   </g>\n",
       "   <g id=\"PathCollection_1\">\n",
       "    <defs>\n",
       "     <path d=\"M 0 8.660254 \n",
       "C 2.296726 8.660254 4.499694 7.747755 6.123724 6.123724 \n",
       "C 7.747755 4.499694 8.660254 2.296726 8.660254 0 \n",
       "C 8.660254 -2.296726 7.747755 -4.499694 6.123724 -6.123724 \n",
       "C 4.499694 -7.747755 2.296726 -8.660254 0 -8.660254 \n",
       "C -2.296726 -8.660254 -4.499694 -7.747755 -6.123724 -6.123724 \n",
       "C -7.747755 -4.499694 -8.660254 -2.296726 -8.660254 0 \n",
       "C -8.660254 2.296726 -7.747755 4.499694 -6.123724 6.123724 \n",
       "C -4.499694 7.747755 -2.296726 8.660254 0 8.660254 \n",
       "z\n",
       "\" id=\"m4d1d1a5df6\" style=\"stroke:#ff0000;\"/>\n",
       "    </defs>\n",
       "    <g clip-path=\"url(#p6ea6e35cb0)\">\n",
       "     <use style=\"fill:#ff0000;stroke:#ff0000;\" x=\"204.487559\" xlink:href=\"#m4d1d1a5df6\" y=\"273.708264\"/>\n",
       "     <use style=\"fill:#ff0000;stroke:#ff0000;\" x=\"233.782113\" xlink:href=\"#m4d1d1a5df6\" y=\"35.691736\"/>\n",
       "     <use style=\"fill:#ff0000;stroke:#ff0000;\" x=\"424.615522\" xlink:href=\"#m4d1d1a5df6\" y=\"221.498691\"/>\n",
       "     <use style=\"fill:#ff0000;stroke:#ff0000;\" x=\"67.590728\" xlink:href=\"#m4d1d1a5df6\" y=\"96.382273\"/>\n",
       "    </g>\n",
       "   </g>\n",
       "  </g>\n",
       " </g>\n",
       " <defs>\n",
       "  <clipPath id=\"p6ea6e35cb0\">\n",
       "   <rect height=\"288\" width=\"432\" x=\"30.103125\" y=\"10.7\"/>\n",
       "  </clipPath>\n",
       " </defs>\n",
       "</svg>\n"
      ],
      "text/plain": [
       "<matplotlib.figure.Figure at 0x7f2e3117da90>"
      ]
     },
     "metadata": {},
     "output_type": "display_data"
    }
   ],
   "source": [
    "nx.draw(FG)"
   ]
  },
  {
   "cell_type": "markdown",
   "metadata": {},
   "source": [
    "Now we shall draw the graph using graphviz layout"
   ]
  },
  {
   "cell_type": "code",
   "execution_count": 36,
   "metadata": {},
   "outputs": [
    {
     "data": {
      "text/plain": [
       "{1: <matplotlib.text.Text at 0x7f2e2e4be240>,\n",
       " 2: <matplotlib.text.Text at 0x7f2e2e4be978>,\n",
       " 3: <matplotlib.text.Text at 0x7f2e2e4c40b8>,\n",
       " 4: <matplotlib.text.Text at 0x7f2e2e4c47b8>}"
      ]
     },
     "execution_count": 36,
     "metadata": {},
     "output_type": "execute_result"
    },
    {
     "data": {
      "application/pdf": "[encoded data removed]",
      "image/svg+xml": [
       "<?xml version=\"1.0\" encoding=\"utf-8\" standalone=\"no\"?>\n",
       "<!DOCTYPE svg PUBLIC \"-//W3C//DTD SVG 1.1//EN\"\n",
       "  \"http://www.w3.org/Graphics/SVG/1.1/DTD/svg11.dtd\">\n",
       "<!-- Created with matplotlib (http://matplotlib.org/) -->\n",
       "<svg height=\"252pt\" version=\"1.1\" viewBox=\"0 0 380 252\" width=\"380pt\" xmlns=\"http://www.w3.org/2000/svg\" xmlns:xlink=\"http://www.w3.org/1999/xlink\">\n",
       " <defs>\n",
       "  <style type=\"text/css\">\n",
       "*{stroke-linecap:butt;stroke-linejoin:round;}\n",
       "  </style>\n",
       " </defs>\n",
       " <g id=\"figure_1\">\n",
       "  <g id=\"patch_1\">\n",
       "   <path d=\"M 0 252.018125 \n",
       "L 380.804688 252.018125 \n",
       "L 380.804688 0 \n",
       "L 0 0 \n",
       "z\n",
       "\" style=\"fill:none;\"/>\n",
       "  </g>\n",
       "  <g id=\"axes_1\">\n",
       "   <g id=\"LineCollection_1\">\n",
       "    <path clip-path=\"url(#p1d9b85cf1e)\" d=\"M 64.35758 141.409482 \n",
       "L 341.051795 98.223687 \n",
       "\" style=\"fill:none;stroke:#0000ff;stroke-opacity:0.6;\"/>\n",
       "    <path clip-path=\"url(#p1d9b85cf1e)\" d=\"M 64.35758 141.409482 \n",
       "L 204.179974 209.27124 \n",
       "\" style=\"fill:none;stroke:#0000ff;stroke-opacity:0.6;\"/>\n",
       "    <path clip-path=\"url(#p1d9b85cf1e)\" d=\"M 341.051795 98.223687 \n",
       "L 202.097127 29.56876 \n",
       "\" style=\"fill:none;stroke:#0000ff;stroke-opacity:0.6;\"/>\n",
       "    <path clip-path=\"url(#p1d9b85cf1e)\" d=\"M 204.179974 209.27124 \n",
       "L 202.097127 29.56876 \n",
       "\" style=\"fill:none;stroke:#0000ff;stroke-opacity:0.6;\"/>\n",
       "   </g>\n",
       "   <g id=\"text_1\">\n",
       "    <g id=\"patch_2\">\n",
       "     <path clip-path=\"url(#p1d9b85cf1e)\" d=\"M 189.770717 129.769258 \n",
       "L 218.056392 125.354495 \n",
       "Q 221.020506 124.891863 220.557874 121.927749 \n",
       "L 219.065404 112.365394 \n",
       "Q 218.602772 109.40128 215.638658 109.863912 \n",
       "L 187.352983 114.278675 \n",
       "Q 184.388869 114.741307 184.851501 117.705421 \n",
       "L 186.343971 127.267776 \n",
       "Q 186.806603 130.23189 189.770717 129.769258 \n",
       "z\n",
       "\" style=\"fill:#ffffff;stroke:#ffffff;stroke-linejoin:miter;\"/>\n",
       "    </g>\n",
       "    <g clip-path=\"url(#p1d9b85cf1e)\">\n",
       "     <!-- 0.125 -->\n",
       "     <defs>\n",
       "      <path d=\"M 31.78125 66.40625 \n",
       "Q 24.171875 66.40625 20.328125 58.90625 \n",
       "Q 16.5 51.421875 16.5 36.375 \n",
       "Q 16.5 21.390625 20.328125 13.890625 \n",
       "Q 24.171875 6.390625 31.78125 6.390625 \n",
       "Q 39.453125 6.390625 43.28125 13.890625 \n",
       "Q 47.125 21.390625 47.125 36.375 \n",
       "Q 47.125 51.421875 43.28125 58.90625 \n",
       "Q 39.453125 66.40625 31.78125 66.40625 \n",
       "z\n",
       "M 31.78125 74.21875 \n",
       "Q 44.046875 74.21875 50.515625 64.515625 \n",
       "Q 56.984375 54.828125 56.984375 36.375 \n",
       "Q 56.984375 17.96875 50.515625 8.265625 \n",
       "Q 44.046875 -1.421875 31.78125 -1.421875 \n",
       "Q 19.53125 -1.421875 13.0625 8.265625 \n",
       "Q 6.59375 17.96875 6.59375 36.375 \n",
       "Q 6.59375 54.828125 13.0625 64.515625 \n",
       "Q 19.53125 74.21875 31.78125 74.21875 \n",
       "z\n",
       "\" id=\"DejaVuSans-30\"/>\n",
       "      <path d=\"M 10.6875 12.40625 \n",
       "L 21 12.40625 \n",
       "L 21 0 \n",
       "L 10.6875 0 \n",
       "z\n",
       "\" id=\"DejaVuSans-2e\"/>\n",
       "      <path d=\"M 12.40625 8.296875 \n",
       "L 28.515625 8.296875 \n",
       "L 28.515625 63.921875 \n",
       "L 10.984375 60.40625 \n",
       "L 10.984375 69.390625 \n",
       "L 28.421875 72.90625 \n",
       "L 38.28125 72.90625 \n",
       "L 38.28125 8.296875 \n",
       "L 54.390625 8.296875 \n",
       "L 54.390625 0 \n",
       "L 12.40625 0 \n",
       "z\n",
       "\" id=\"DejaVuSans-31\"/>\n",
       "      <path d=\"M 19.1875 8.296875 \n",
       "L 53.609375 8.296875 \n",
       "L 53.609375 0 \n",
       "L 7.328125 0 \n",
       "L 7.328125 8.296875 \n",
       "Q 12.9375 14.109375 22.625 23.890625 \n",
       "Q 32.328125 33.6875 34.8125 36.53125 \n",
       "Q 39.546875 41.84375 41.421875 45.53125 \n",
       "Q 43.3125 49.21875 43.3125 52.78125 \n",
       "Q 43.3125 58.59375 39.234375 62.25 \n",
       "Q 35.15625 65.921875 28.609375 65.921875 \n",
       "Q 23.96875 65.921875 18.8125 64.3125 \n",
       "Q 13.671875 62.703125 7.8125 59.421875 \n",
       "L 7.8125 69.390625 \n",
       "Q 13.765625 71.78125 18.9375 73 \n",
       "Q 24.125 74.21875 28.421875 74.21875 \n",
       "Q 39.75 74.21875 46.484375 68.546875 \n",
       "Q 53.21875 62.890625 53.21875 53.421875 \n",
       "Q 53.21875 48.921875 51.53125 44.890625 \n",
       "Q 49.859375 40.875 45.40625 35.40625 \n",
       "Q 44.1875 33.984375 37.640625 27.21875 \n",
       "Q 31.109375 20.453125 19.1875 8.296875 \n",
       "z\n",
       "\" id=\"DejaVuSans-32\"/>\n",
       "      <path d=\"M 10.796875 72.90625 \n",
       "L 49.515625 72.90625 \n",
       "L 49.515625 64.59375 \n",
       "L 19.828125 64.59375 \n",
       "L 19.828125 46.734375 \n",
       "Q 21.96875 47.46875 24.109375 47.828125 \n",
       "Q 26.265625 48.1875 28.421875 48.1875 \n",
       "Q 40.625 48.1875 47.75 41.5 \n",
       "Q 54.890625 34.8125 54.890625 23.390625 \n",
       "Q 54.890625 11.625 47.5625 5.09375 \n",
       "Q 40.234375 -1.421875 26.90625 -1.421875 \n",
       "Q 22.3125 -1.421875 17.546875 -0.640625 \n",
       "Q 12.796875 0.140625 7.71875 1.703125 \n",
       "L 7.71875 11.625 \n",
       "Q 12.109375 9.234375 16.796875 8.0625 \n",
       "Q 21.484375 6.890625 26.703125 6.890625 \n",
       "Q 35.15625 6.890625 40.078125 11.328125 \n",
       "Q 45.015625 15.765625 45.015625 23.390625 \n",
       "Q 45.015625 31 40.078125 35.4375 \n",
       "Q 35.15625 39.890625 26.703125 39.890625 \n",
       "Q 22.75 39.890625 18.8125 39.015625 \n",
       "Q 14.890625 38.140625 10.796875 36.28125 \n",
       "z\n",
       "\" id=\"DejaVuSans-35\"/>\n",
       "     </defs>\n",
       "     <g transform=\"translate(188.987375 124.750334)rotate(-8.871022)scale(0.1 -0.1)\">\n",
       "      <use xlink:href=\"#DejaVuSans-30\"/>\n",
       "      <use x=\"63.623047\" xlink:href=\"#DejaVuSans-2e\"/>\n",
       "      <use x=\"95.410156\" xlink:href=\"#DejaVuSans-31\"/>\n",
       "      <use x=\"159.033203\" xlink:href=\"#DejaVuSans-32\"/>\n",
       "      <use x=\"222.65625\" xlink:href=\"#DejaVuSans-35\"/>\n",
       "     </g>\n",
       "    </g>\n",
       "   </g>\n",
       "   <g id=\"text_2\">\n",
       "    <g id=\"patch_3\">\n",
       "     <path clip-path=\"url(#p1d9b85cf1e)\" d=\"M 120.830463 177.531734 \n",
       "L 140.861499 187.253649 \n",
       "Q 143.560418 188.563549 144.870318 185.86463 \n",
       "L 149.09611 177.157806 \n",
       "Q 150.40601 174.458888 147.707092 173.148988 \n",
       "L 127.676055 163.427073 \n",
       "Q 124.977136 162.117173 123.667236 164.816092 \n",
       "L 119.441444 173.522916 \n",
       "Q 118.131544 176.221834 120.830463 177.531734 \n",
       "z\n",
       "\" style=\"fill:#ffffff;stroke:#ffffff;stroke-linejoin:miter;\"/>\n",
       "    </g>\n",
       "    <g clip-path=\"url(#p1d9b85cf1e)\">\n",
       "     <!-- 0.75 -->\n",
       "     <defs>\n",
       "      <path d=\"M 8.203125 72.90625 \n",
       "L 55.078125 72.90625 \n",
       "L 55.078125 68.703125 \n",
       "L 28.609375 0 \n",
       "L 18.3125 0 \n",
       "L 43.21875 64.59375 \n",
       "L 8.203125 64.59375 \n",
       "z\n",
       "\" id=\"DejaVuSans-37\"/>\n",
       "     </defs>\n",
       "     <g transform=\"translate(123.048423 172.961847)rotate(-334.110728)scale(0.1 -0.1)\">\n",
       "      <use xlink:href=\"#DejaVuSans-30\"/>\n",
       "      <use x=\"63.623047\" xlink:href=\"#DejaVuSans-2e\"/>\n",
       "      <use x=\"95.410156\" xlink:href=\"#DejaVuSans-37\"/>\n",
       "      <use x=\"159.033203\" xlink:href=\"#DejaVuSans-35\"/>\n",
       "     </g>\n",
       "    </g>\n",
       "   </g>\n",
       "   <g id=\"text_3\">\n",
       "    <g id=\"patch_4\">\n",
       "     <path clip-path=\"url(#p1d9b85cf1e)\" d=\"M 195.134118 105.197752 \n",
       "L 195.465911 133.823954 \n",
       "Q 195.50068 136.823752 198.500479 136.788983 \n",
       "L 208.177954 136.676816 \n",
       "Q 211.177752 136.642047 211.142983 133.642248 \n",
       "L 210.81119 105.016046 \n",
       "Q 210.776421 102.016248 207.776623 102.051017 \n",
       "L 198.099148 102.163184 \n",
       "Q 195.099349 102.197953 195.134118 105.197752 \n",
       "z\n",
       "\" style=\"fill:#ffffff;stroke:#ffffff;stroke-linejoin:miter;\"/>\n",
       "    </g>\n",
       "    <g clip-path=\"url(#p1d9b85cf1e)\">\n",
       "     <!-- 0.375 -->\n",
       "     <defs>\n",
       "      <path d=\"M 40.578125 39.3125 \n",
       "Q 47.65625 37.796875 51.625 33 \n",
       "Q 55.609375 28.21875 55.609375 21.1875 \n",
       "Q 55.609375 10.40625 48.1875 4.484375 \n",
       "Q 40.765625 -1.421875 27.09375 -1.421875 \n",
       "Q 22.515625 -1.421875 17.65625 -0.515625 \n",
       "Q 12.796875 0.390625 7.625 2.203125 \n",
       "L 7.625 11.71875 \n",
       "Q 11.71875 9.328125 16.59375 8.109375 \n",
       "Q 21.484375 6.890625 26.8125 6.890625 \n",
       "Q 36.078125 6.890625 40.9375 10.546875 \n",
       "Q 45.796875 14.203125 45.796875 21.1875 \n",
       "Q 45.796875 27.640625 41.28125 31.265625 \n",
       "Q 36.765625 34.90625 28.71875 34.90625 \n",
       "L 20.21875 34.90625 \n",
       "L 20.21875 43.015625 \n",
       "L 29.109375 43.015625 \n",
       "Q 36.375 43.015625 40.234375 45.921875 \n",
       "Q 44.09375 48.828125 44.09375 54.296875 \n",
       "Q 44.09375 59.90625 40.109375 62.90625 \n",
       "Q 36.140625 65.921875 28.71875 65.921875 \n",
       "Q 24.65625 65.921875 20.015625 65.03125 \n",
       "Q 15.375 64.15625 9.8125 62.3125 \n",
       "L 9.8125 71.09375 \n",
       "Q 15.4375 72.65625 20.34375 73.4375 \n",
       "Q 25.25 74.21875 29.59375 74.21875 \n",
       "Q 40.828125 74.21875 47.359375 69.109375 \n",
       "Q 53.90625 64.015625 53.90625 55.328125 \n",
       "Q 53.90625 49.265625 50.4375 45.09375 \n",
       "Q 46.96875 40.921875 40.578125 39.3125 \n",
       "z\n",
       "\" id=\"DejaVuSans-33\"/>\n",
       "     </defs>\n",
       "     <g transform=\"translate(200.213465 105.138879)rotate(-270.664059)scale(0.1 -0.1)\">\n",
       "      <use xlink:href=\"#DejaVuSans-30\"/>\n",
       "      <use x=\"63.623047\" xlink:href=\"#DejaVuSans-2e\"/>\n",
       "      <use x=\"95.410156\" xlink:href=\"#DejaVuSans-33\"/>\n",
       "      <use x=\"159.033203\" xlink:href=\"#DejaVuSans-37\"/>\n",
       "      <use x=\"222.65625\" xlink:href=\"#DejaVuSans-35\"/>\n",
       "     </g>\n",
       "    </g>\n",
       "   </g>\n",
       "   <g id=\"text_4\">\n",
       "    <g id=\"patch_5\">\n",
       "     <path clip-path=\"url(#p1d9b85cf1e)\" d=\"M 260.973151 67.402001 \n",
       "L 275.230932 74.446507 \n",
       "Q 277.920551 75.775397 279.249442 73.085779 \n",
       "L 283.536499 64.408956 \n",
       "Q 284.86539 61.719338 282.175771 60.390447 \n",
       "L 267.91799 53.345941 \n",
       "Q 265.228371 52.01705 263.89948 54.706669 \n",
       "L 259.612423 63.383491 \n",
       "Q 258.283532 66.07311 260.973151 67.402001 \n",
       "z\n",
       "\" style=\"fill:#ffffff;stroke:#ffffff;stroke-linejoin:miter;\"/>\n",
       "    </g>\n",
       "    <g clip-path=\"url(#p1d9b85cf1e)\">\n",
       "     <!-- 1.2 -->\n",
       "     <g transform=\"translate(263.223268 62.84786)rotate(-333.706876)scale(0.1 -0.1)\">\n",
       "      <use xlink:href=\"#DejaVuSans-31\"/>\n",
       "      <use x=\"63.623047\" xlink:href=\"#DejaVuSans-2e\"/>\n",
       "      <use x=\"95.410156\" xlink:href=\"#DejaVuSans-32\"/>\n",
       "     </g>\n",
       "    </g>\n",
       "   </g>\n",
       "   <g id=\"PathCollection_1\">\n",
       "    <defs>\n",
       "     <path d=\"M 0 8.660254 \n",
       "C 2.296726 8.660254 4.499694 7.747755 6.123724 6.123724 \n",
       "C 7.747755 4.499694 8.660254 2.296726 8.660254 0 \n",
       "C 8.660254 -2.296726 7.747755 -4.499694 6.123724 -6.123724 \n",
       "C 4.499694 -7.747755 2.296726 -8.660254 0 -8.660254 \n",
       "C -2.296726 -8.660254 -4.499694 -7.747755 -6.123724 -6.123724 \n",
       "C -7.747755 -4.499694 -8.660254 -2.296726 -8.660254 0 \n",
       "C -8.660254 2.296726 -7.747755 4.499694 -6.123724 6.123724 \n",
       "C -4.499694 7.747755 -2.296726 8.660254 0 8.660254 \n",
       "z\n",
       "\" id=\"m3b2524fa92\" style=\"stroke:#008000;stroke-opacity:0.8;\"/>\n",
       "    </defs>\n",
       "    <g clip-path=\"url(#p1d9b85cf1e)\">\n",
       "     <use style=\"fill:#008000;fill-opacity:0.8;stroke:#008000;stroke-opacity:0.8;\" x=\"64.35758\" xlink:href=\"#m3b2524fa92\" y=\"141.409482\"/>\n",
       "     <use style=\"fill:#008000;fill-opacity:0.8;stroke:#008000;stroke-opacity:0.8;\" x=\"341.051795\" xlink:href=\"#m3b2524fa92\" y=\"98.223687\"/>\n",
       "     <use style=\"fill:#008000;fill-opacity:0.8;stroke:#008000;stroke-opacity:0.8;\" x=\"204.179974\" xlink:href=\"#m3b2524fa92\" y=\"209.27124\"/>\n",
       "     <use style=\"fill:#008000;fill-opacity:0.8;stroke:#008000;stroke-opacity:0.8;\" x=\"202.097127\" xlink:href=\"#m3b2524fa92\" y=\"29.56876\"/>\n",
       "    </g>\n",
       "   </g>\n",
       "   <g id=\"text_5\">\n",
       "    <g clip-path=\"url(#p1d9b85cf1e)\">\n",
       "     <!-- 1 -->\n",
       "     <g transform=\"translate(60.54008 144.720732)scale(0.12 -0.12)\">\n",
       "      <use xlink:href=\"#DejaVuSans-31\"/>\n",
       "     </g>\n",
       "    </g>\n",
       "   </g>\n",
       "   <g id=\"text_6\">\n",
       "    <g clip-path=\"url(#p1d9b85cf1e)\">\n",
       "     <!-- 2 -->\n",
       "     <g transform=\"translate(337.234295 101.534937)scale(0.12 -0.12)\">\n",
       "      <use xlink:href=\"#DejaVuSans-32\"/>\n",
       "     </g>\n",
       "    </g>\n",
       "   </g>\n",
       "   <g id=\"text_7\">\n",
       "    <g clip-path=\"url(#p1d9b85cf1e)\">\n",
       "     <!-- 3 -->\n",
       "     <g transform=\"translate(200.362474 212.58249)scale(0.12 -0.12)\">\n",
       "      <use xlink:href=\"#DejaVuSans-33\"/>\n",
       "     </g>\n",
       "    </g>\n",
       "   </g>\n",
       "   <g id=\"text_8\">\n",
       "    <g clip-path=\"url(#p1d9b85cf1e)\">\n",
       "     <!-- 4 -->\n",
       "     <defs>\n",
       "      <path d=\"M 37.796875 64.3125 \n",
       "L 12.890625 25.390625 \n",
       "L 37.796875 25.390625 \n",
       "z\n",
       "M 35.203125 72.90625 \n",
       "L 47.609375 72.90625 \n",
       "L 47.609375 25.390625 \n",
       "L 58.015625 25.390625 \n",
       "L 58.015625 17.1875 \n",
       "L 47.609375 17.1875 \n",
       "L 47.609375 0 \n",
       "L 37.796875 0 \n",
       "L 37.796875 17.1875 \n",
       "L 4.890625 17.1875 \n",
       "L 4.890625 26.703125 \n",
       "z\n",
       "\" id=\"DejaVuSans-34\"/>\n",
       "     </defs>\n",
       "     <g transform=\"translate(198.279627 32.88001)scale(0.12 -0.12)\">\n",
       "      <use xlink:href=\"#DejaVuSans-34\"/>\n",
       "     </g>\n",
       "    </g>\n",
       "   </g>\n",
       "  </g>\n",
       " </g>\n",
       " <defs>\n",
       "  <clipPath id=\"p1d9b85cf1e\">\n",
       "   <rect height=\"217.44\" width=\"334.8\" x=\"35.304688\" y=\"10.7\"/>\n",
       "  </clipPath>\n",
       " </defs>\n",
       "</svg>\n"
      ],
      "text/plain": [
       "<matplotlib.figure.Figure at 0x7f2e2eed8be0>"
      ]
     },
     "metadata": {},
     "output_type": "display_data"
    }
   ],
   "source": [
    "from networkx.drawing.nx_agraph import graphviz_layout\n",
    "pos = graphviz_layout(FG)\n",
    "plt.axis('off')\n",
    "nx.draw_networkx_nodes(FG,pos,node_color='g',alpha = 0.8)  # draws nodes\n",
    "nx.draw_networkx_edges(FG,pos,edge_color='b',alpha = 0.6)  # draws edges\n",
    "nx.draw_networkx_edge_labels(FG,pos,edge_labels = nx.get_edge_attributes(FG,'weight')) # edge lables\n",
    "nx.draw_networkx_labels(FG,pos) # node lables"
   ]
  },
  {
   "cell_type": "markdown",
   "metadata": {},
   "source": [
    "## Going Further\n",
    "\n",
    "We have only seen the basic graph functionalities. In addition to this, NetworkX provides many Graph Algorithms, and Many types of Graphs. Interested reader can look at [Official Documentation](https://networkx.readthedocs.io/en/stable/)"
   ]
  }
 ],
 "metadata": {
  "kernelspec": {
   "display_name": "Python 3",
   "language": "python",
   "name": "python3"
  },
  "language_info": {
   "codemirror_mode": {
    "name": "ipython",
    "version": 3
   },
   "file_extension": ".py",
   "mimetype": "text/x-python",
   "name": "python",
   "nbconvert_exporter": "python",
   "pygments_lexer": "ipython3",
   "version": "3.5.3"
  }
 },
 "nbformat": 4,
 "nbformat_minor": 2
}

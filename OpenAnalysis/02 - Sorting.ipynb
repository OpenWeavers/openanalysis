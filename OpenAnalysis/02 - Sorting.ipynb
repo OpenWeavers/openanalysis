{
 "cells": [
  {
   "cell_type": "markdown",
   "metadata": {},
   "source": [
    "# Sorting Analysis\n",
    "\n",
    "Consider a finite collection of orderable elements. Re-arranging that collection so that, the collection is completely ordered, is called sorting. There are many techiniques to sort a collection. Following is some of the comparision based Sorting Algorithms.\n",
    "\n",
    "- Bubble Sort\n",
    "- Insertion Sort\n",
    "- Selection Sort\n",
    "- Merge Sort\n",
    "- Quick Sort\n",
    "- Heap Sort\n",
    "\n",
    "Before looking at the analysis part, we shall examine the Language in built methods to sorting\n",
    "\n",
    "## `sorted(collection,reverse = False[,key])`\n",
    "\n",
    "This function takes an iterable as argument, and returns it in sorted form based on `key`. If key is not given, sorting is done according to default comparision rules. Let's see the examples and understand the working of `sorted()`. If `reverse` is `True`, reversed collection is returned after sorting"
   ]
  },
  {
   "cell_type": "code",
   "execution_count": 1,
   "metadata": {
    "collapsed": true
   },
   "outputs": [],
   "source": [
    "x = list(range(10))\n",
    "import random\n",
    "random.shuffle(x)"
   ]
  },
  {
   "cell_type": "code",
   "execution_count": 2,
   "metadata": {},
   "outputs": [
    {
     "data": {
      "text/plain": [
       "[8, 9, 6, 4, 2, 7, 0, 5, 1, 3]"
      ]
     },
     "execution_count": 2,
     "metadata": {},
     "output_type": "execute_result"
    }
   ],
   "source": [
    "x"
   ]
  },
  {
   "cell_type": "code",
   "execution_count": 3,
   "metadata": {},
   "outputs": [
    {
     "data": {
      "text/plain": [
       "[0, 1, 2, 3, 4, 5, 6, 7, 8, 9]"
      ]
     },
     "execution_count": 3,
     "metadata": {},
     "output_type": "execute_result"
    }
   ],
   "source": [
    "sorted(x)"
   ]
  },
  {
   "cell_type": "code",
   "execution_count": 4,
   "metadata": {},
   "outputs": [
    {
     "data": {
      "text/plain": [
       "[5, 4, 6, 0, 3, 9, 7, 1, 2, 8]"
      ]
     },
     "execution_count": 4,
     "metadata": {},
     "output_type": "execute_result"
    }
   ],
   "source": [
    "import math\n",
    "y  = sorted(x,key = lambda x: math.sin(x))  # Sort x in the\n",
    "y"
   ]
  },
  {
   "cell_type": "code",
   "execution_count": 5,
   "metadata": {},
   "outputs": [
    {
     "data": {
      "text/plain": [
       "[-0.9589242746631385,\n",
       " -0.7568024953079282,\n",
       " -0.27941549819892586,\n",
       " 0.0,\n",
       " 0.1411200080598672,\n",
       " 0.4121184852417566,\n",
       " 0.6569865987187891,\n",
       " 0.8414709848078965,\n",
       " 0.9092974268256817,\n",
       " 0.9893582466233818]"
      ]
     },
     "execution_count": 5,
     "metadata": {},
     "output_type": "execute_result"
    }
   ],
   "source": [
    "[math.sin(i) for i in y]"
   ]
  },
  {
   "cell_type": "markdown",
   "metadata": {},
   "source": [
    "Note how the elements of `sin(y)` are in increasing order"
   ]
  },
  {
   "cell_type": "markdown",
   "metadata": {},
   "source": [
    "## Standard `import` statement"
   ]
  },
  {
   "cell_type": "code",
   "execution_count": 1,
   "metadata": {
    "collapsed": true
   },
   "outputs": [],
   "source": [
    "from openanalysis.sorting import SortingAlgorithm,SortVisualizer\n",
    "import numpy as np   # for doing vstack()"
   ]
  },
  {
   "cell_type": "markdown",
   "metadata": {},
   "source": [
    "`SortingAlgorithm` is the base class providing the standards to implement sorting algorithms, `SortVisualizer` visualizes and analyses the algorithm"
   ]
  },
  {
   "cell_type": "markdown",
   "metadata": {},
   "source": [
    "## `SortingAlgorithm` class\n",
    "\n",
    "Any sorting algorithm, which has to be implemented, has to be derived from this class. Now we shall see data members and member functions of this class.\n",
    "\n",
    "### Data Members\n",
    "\n",
    "- `name` -  Name of the Sorting Algorithm\n",
    "- `count` - Holds the number of basic operations performed\n",
    "- `hist_arr` - A 2D `numpy` array, holding the instances of array, as exchange is performed\n",
    "\n",
    "### Member Functions\n",
    "\n",
    "- `__init__(self, name):` - Initializes algorithm with a `name`\n",
    "- `sort(self, array, visualization):` _ The base sorting function. Sets `count` to 0. `array` is 1D `numpy` array, `visualization` is a `bool` indicating whether `array` has to be `vstack`ed into `hist_arr`\n",
    "\n",
    "## An example .... Bubble Sort\n",
    "\n",
    "Now we shall implement the class `BubbleSort`"
   ]
  },
  {
   "cell_type": "code",
   "execution_count": 2,
   "metadata": {
    "collapsed": true
   },
   "outputs": [],
   "source": [
    "class BubbleSort(SortingAlgorithm):                        # Derived from SortingAlgorithm\n",
    "    def __init__(self):\n",
    "        SortingAlgorithm.__init__(self, \"Bubble Sort\")     # Initializing with name\n",
    "\n",
    "    def sort(self, array, visualization=False):            # MUST have this signature\n",
    "        SortingAlgorithm.sort(self, array, visualization)  # sets self.count to 0\n",
    "        for i in range(0, array.size):                     # Not len(array)\n",
    "            exch = False\n",
    "            for j in range(0, array.size - i - 1):\n",
    "                self.count += 1                            # Increment self.count after each basic operation\n",
    "                if array[j] > array[j + 1]:\n",
    "                    array[j], array[j + 1] = array[j + 1], array[j]\n",
    "                    exch = True\n",
    "                if visualization:\n",
    "                    self.hist_array = np.vstack([self.hist_array, array]) # Save the current state to hist_arr\n",
    "            if not exch:\n",
    "                break\n",
    "        if visualization:\n",
    "            self.hist_array = np.vstack([self.hist_array, array])  # Save the final state to hist_arr"
   ]
  },
  {
   "cell_type": "markdown",
   "metadata": {},
   "source": [
    "## `SortVisualizer` class\n",
    "\n",
    "This class provides the visualization and analysis methods. Let's see its methods in detail\n",
    "\n",
    "- `__init__(self, sorter):` Initializes visualizer with a Sorting Algorithm. \n",
    "    - `sorter` is a class, which is derived from `SortingAlgorithm`\n",
    "    \n",
    "    \n",
    "- `visualize(self, num=100, save=False):` Visualizes the given algorithm with a randomly shuffeled array.\n",
    "    - `num` size of randomly shuffeled array\n",
    "    - `save` is `True` means animation is saved in `output/`\n",
    "    \n",
    "    \n",
    "- `efficiency(self, maxpts=1000):`\n",
    "    - Plots the running time of sorting algorithm by sorting for 3 cases\n",
    "    - Already Sorted array, reverse sorted array and Shuffled array\n",
    "    - Analysis is done  by inputting randomly shuffled integer arrays with size staring\n",
    "      from 100, and varying upto `maxpts` in the steps of 100, and counting the number of\n",
    "      basic operations\n",
    "    - `maxpts` Upper bound on size of elements chosen for analysing efficiency"
   ]
  },
  {
   "cell_type": "code",
   "execution_count": 3,
   "metadata": {
    "collapsed": true
   },
   "outputs": [],
   "source": [
    "bubble_visualizer = SortVisualizer(BubbleSort)"
   ]
  },
  {
   "cell_type": "code",
   "execution_count": 4,
   "metadata": {},
   "outputs": [
    {
     "data": {
      "image/png": "[encoded data removed]",
      "text/plain": [
       "<matplotlib.figure.Figure at 0x6bfe990>"
      ]
     },
     "metadata": {},
     "output_type": "display_data"
    }
   ],
   "source": [
    "bubble_visualizer.efficiency()"
   ]
  },
  {
   "cell_type": "markdown",
   "metadata": {},
   "source": [
    "As you can see in the above plot, `BubbleSort` takes $O(n)$ time on best case and $O(n^2)$ time on both avarage and worst cases\n",
    "\n",
    "\n",
    "You can call to visualize function as this and see the 'mp4' file saved at `output/` folder\n",
    "\n",
    "```python\n",
    "    bubble_visualizer.visualize(save=True)\n",
    "```   \n",
    "\n",
    "\n",
    "## `compare(algs)`\n",
    "\n",
    "`algs` is a list of classes derived from `SortingAlgorithm`. It performs tests and plots the bar graph comapring the number of basic operations performed by each algorithm.\n"
   ]
  },
  {
   "cell_type": "markdown",
   "metadata": {},
   "source": [
    "## Why a `class` if sorting could be done at a function\n",
    "\n",
    "We have just seen how `BubbleSort` is implemented. Every sorting algorithm is not as simple as `BubbleSort`. QuickSort and MergeSort needs several auxulary methods to work with. If they are scattered throughout the code, they decrease the readability. So it is better to pack everything in a class.\n",
    "\n",
    "## Example File\n",
    "\n",
    "You can see more examples at [Github](https://github.com/OpenWeavers/OpenAlgorithm/blob/master/Python/AnalysisTest/sorting.py)"
   ]
  }
 ],
 "metadata": {
  "kernelspec": {
   "display_name": "Python 3",
   "language": "python",
   "name": "python3"
  },
  "language_info": {
   "codemirror_mode": {
    "name": "ipython",
    "version": 3
   },
   "file_extension": ".py",
   "mimetype": "text/x-python",
   "name": "python",
   "nbconvert_exporter": "python",
   "pygments_lexer": "ipython3",
   "version": "3.6.1"
  }
 },
 "nbformat": 4,
 "nbformat_minor": 2
}

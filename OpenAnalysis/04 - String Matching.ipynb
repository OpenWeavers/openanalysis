{
 "cells": [
  {
   "cell_type": "markdown",
   "metadata": {},
   "source": [
    "# String Matching Analysis\n",
    "\n",
    "Consider a string of finite length $m$ Let it be $T$. Finding whether a string $P$ of length $n$ exsists in $T$ is known as String Matching, Following is some of the comparision based String Matching Algorithms.\n",
    "\n",
    "- Brute Force String Matching Algorithm\n",
    "- Horspool String Matching\n",
    "- Boyer - Moore String Matching\n",
    "\n",
    "Before looking at the analysis part, we shall examine the Language in built methods to sorting\n",
    "\n",
    "## The `in` operator and `str.index()`\n",
    "\n",
    "We have already seen the `in` operator in several contexts. Let's see the working of `in` operator again"
   ]
  },
  {
   "cell_type": "code",
   "execution_count": 1,
   "metadata": {
    "collapsed": true
   },
   "outputs": [],
   "source": [
    "x = 'this is some random text used for illustrative purposes'"
   ]
  },
  {
   "cell_type": "code",
   "execution_count": 2,
   "metadata": {},
   "outputs": [
    {
     "data": {
      "text/plain": [
       "'this is some random text used for illustrative purposes'"
      ]
     },
     "execution_count": 2,
     "metadata": {},
     "output_type": "execute_result"
    }
   ],
   "source": [
    "x"
   ]
  },
  {
   "cell_type": "code",
   "execution_count": 3,
   "metadata": {},
   "outputs": [
    {
     "data": {
      "text/plain": [
       "True"
      ]
     },
     "execution_count": 3,
     "metadata": {},
     "output_type": "execute_result"
    }
   ],
   "source": [
    "'this' in x"
   ]
  },
  {
   "cell_type": "code",
   "execution_count": 4,
   "metadata": {},
   "outputs": [
    {
     "data": {
      "text/plain": [
       "False"
      ]
     },
     "execution_count": 4,
     "metadata": {},
     "output_type": "execute_result"
    }
   ],
   "source": [
    "'not' in x"
   ]
  },
  {
   "cell_type": "code",
   "execution_count": 6,
   "metadata": {},
   "outputs": [
    {
     "data": {
      "text/plain": [
       "2"
      ]
     },
     "execution_count": 6,
     "metadata": {},
     "output_type": "execute_result"
    }
   ],
   "source": [
    "x.index('is')"
   ]
  },
  {
   "cell_type": "code",
   "execution_count": 7,
   "metadata": {},
   "outputs": [
    {
     "ename": "ValueError",
     "evalue": "substring not found",
     "output_type": "error",
     "traceback": [
      "\u001b[0;31m---------------------------------------------------------------------------\u001b[0m",
      "\u001b[0;31mValueError\u001b[0m                                Traceback (most recent call last)",
      "\u001b[0;32m<ipython-input-7-a1f052cc5af7>\u001b[0m in \u001b[0;36m<module>\u001b[0;34m()\u001b[0m\n\u001b[0;32m----> 1\u001b[0;31m \u001b[0mx\u001b[0m\u001b[0;34m.\u001b[0m\u001b[0mindex\u001b[0m\u001b[0;34m(\u001b[0m\u001b[0;34m'not'\u001b[0m\u001b[0;34m)\u001b[0m\u001b[0;34m\u001b[0m\u001b[0m\n\u001b[0m",
      "\u001b[0;31mValueError\u001b[0m: substring not found"
     ]
    }
   ],
   "source": [
    "x.index('not')"
   ]
  },
  {
   "cell_type": "markdown",
   "metadata": {},
   "source": [
    "## Standard `import` statement"
   ]
  },
  {
   "cell_type": "code",
   "execution_count": 8,
   "metadata": {},
   "outputs": [
    {
     "ename": "FileNotFoundError",
     "evalue": "[Errno 2] No such file or directory: '../OpenAnalysis/StringMatchingSamples'",
     "output_type": "error",
     "traceback": [
      "\u001b[0;31m---------------------------------------------------------------------------\u001b[0m",
      "\u001b[0;31mFileNotFoundError\u001b[0m                         Traceback (most recent call last)",
      "\u001b[0;32m<ipython-input-8-9739cd6cb083>\u001b[0m in \u001b[0;36m<module>\u001b[0;34m()\u001b[0m\n\u001b[0;32m----> 1\u001b[0;31m \u001b[0;32mfrom\u001b[0m \u001b[0mOpenAnalysis\u001b[0m\u001b[0;34m.\u001b[0m\u001b[0mstring_matching\u001b[0m \u001b[0;32mimport\u001b[0m \u001b[0mStringMatchingAlgorithm\u001b[0m\u001b[0;34m,\u001b[0m\u001b[0mStringMatchingAnalyzer\u001b[0m\u001b[0;34m\u001b[0m\u001b[0m\n\u001b[0m",
      "\u001b[0;32m/usr/local/lib/python3.5/dist-packages/OpenAnalysis/string_matching.py\u001b[0m in \u001b[0;36m<module>\u001b[0;34m()\u001b[0m\n\u001b[1;32m     31\u001b[0m \u001b[0;34m\u001b[0m\u001b[0m\n\u001b[1;32m     32\u001b[0m \u001b[0;34m\u001b[0m\u001b[0m\n\u001b[0;32m---> 33\u001b[0;31m \u001b[0;32mclass\u001b[0m \u001b[0mStringMatchingAnalyzer\u001b[0m\u001b[0;34m:\u001b[0m\u001b[0;34m\u001b[0m\u001b[0m\n\u001b[0m\u001b[1;32m     34\u001b[0m     \"\"\"\n\u001b[1;32m     35\u001b[0m     \u001b[0mClass\u001b[0m \u001b[0mto\u001b[0m \u001b[0manalyze\u001b[0m \u001b[0mthe\u001b[0m \u001b[0minstances\u001b[0m \u001b[0mof\u001b[0m \u001b[0mStringMatchingAlgorithm\u001b[0m\u001b[0;34m\u001b[0m\u001b[0m\n",
      "\u001b[0;32m/usr/local/lib/python3.5/dist-packages/OpenAnalysis/string_matching.py\u001b[0m in \u001b[0;36mStringMatchingAnalyzer\u001b[0;34m()\u001b[0m\n\u001b[1;32m     39\u001b[0m     \u001b[0mtext\u001b[0m \u001b[0;34m=\u001b[0m \u001b[0;34m''\u001b[0m\u001b[0;34m\u001b[0m\u001b[0m\n\u001b[1;32m     40\u001b[0m     \u001b[0mpattern\u001b[0m \u001b[0;34m=\u001b[0m \u001b[0;34m''\u001b[0m\u001b[0;34m\u001b[0m\u001b[0m\n\u001b[0;32m---> 41\u001b[0;31m     \u001b[0msamples_list\u001b[0m \u001b[0;34m=\u001b[0m \u001b[0mos\u001b[0m\u001b[0;34m.\u001b[0m\u001b[0mlistdir\u001b[0m\u001b[0;34m(\u001b[0m\u001b[0;34m'../OpenAnalysis/StringMatchingSamples'\u001b[0m\u001b[0;34m)\u001b[0m\u001b[0;34m\u001b[0m\u001b[0m\n\u001b[0m\u001b[1;32m     42\u001b[0m     \u001b[0;31m# The samples are text files stored in StringMatchingSamples directory of Current Working\u001b[0m\u001b[0;34m\u001b[0m\u001b[0;34m\u001b[0m\u001b[0m\n\u001b[1;32m     43\u001b[0m     \u001b[0;31m# Directory. You can download the sample tar.gz texts from the SMART website.\u001b[0m\u001b[0;34m\u001b[0m\u001b[0;34m\u001b[0m\u001b[0m\n",
      "\u001b[0;31mFileNotFoundError\u001b[0m: [Errno 2] No such file or directory: '../OpenAnalysis/StringMatchingSamples'"
     ]
    }
   ],
   "source": [
    "from OpenAnalysis.string_matching import StringMatchingAlgorithm,StringMatchingAnalyzer"
   ]
  },
  {
   "cell_type": "markdown",
   "metadata": {},
   "source": [
    "`SearchingAlgorithm` is the base class providing the standards to implement sorting algorithms, `SearchVisualizer` visualizes and analyses the algorithm"
   ]
  },
  {
   "cell_type": "markdown",
   "metadata": {},
   "source": [
    "## `SearchingAlgorithm` class\n",
    "\n",
    "Any searching algorithm, which has to be implemented, has to be derived from this class. Now we shall see data members and member functions of this class.\n",
    "\n",
    "### Data Members\n",
    "\n",
    "- `name` -  Name of the Searching Algorithm\n",
    "- `count` - Holds the number of basic operations performed\n",
    "\n",
    "### Member Functions\n",
    "\n",
    "- `__init__(self, name):` - Initializes algorithm with a `name`\n",
    "- `search(self, array, key):` _ The base sorting function. Sets `count` to 0. `array` is 1D `numpy` array,`key` is the key of element to be found out\n",
    "\n",
    "## An example .... Binary Search\n",
    "\n",
    "Now we shall implement the class `BinarySearch`"
   ]
  },
  {
   "cell_type": "code",
   "execution_count": 9,
   "metadata": {
    "collapsed": true
   },
   "outputs": [],
   "source": [
    "class BinarySearch(SearchingAlgorithm):                    # Inheriting\n",
    "    def __init__(self):\n",
    "        SearchingAlgorithm.__init__(self, \"Binary Search\") # Initailizing with name\n",
    "\n",
    "    def search(self, arr, key):\n",
    "        SearchingAlgorithm.search(self, arr, key)          # call base class search\n",
    "        low, high = 0, arr.size - 1\n",
    "        while low <= high:\n",
    "            mid = int((low + high) / 2)\n",
    "            self.count += 1                                # Increment for each basic operation performed\n",
    "            if arr[mid] == key:\n",
    "                return True\n",
    "            elif arr[mid] < key:\n",
    "                low = mid + 1\n",
    "            else:\n",
    "                high = mid - 1\n",
    "        return False"
   ]
  },
  {
   "cell_type": "markdown",
   "metadata": {},
   "source": [
    "## `SearchVisualizer` class\n",
    "\n",
    "This class provides the visualization and analysis methods. Let's see its methods in detail\n",
    "\n",
    "- `__init__(self, searcher):` Initializes visualizer with a Searching Algorithm. \n",
    "    - `searcher` is a class, which is derived from `SearchingAlgorithm`\n",
    "    \n",
    "- `analyze(self, maxpts=1000):`\n",
    "    - Plots the running time of searching algorithm by sorting for 3 cases\n",
    "    - Key is the first element, Key is the last element, Key at random index\n",
    "    - Analysis is done  by inputting sorted integer arrays with size staring\n",
    "      from 100, and varying upto `maxpts` in the steps of 100, and counting the number of\n",
    "      basic operations\n",
    "    - `maxpts` Upper bound on size of elements chosen for analysing efficiency"
   ]
  },
  {
   "cell_type": "code",
   "execution_count": 10,
   "metadata": {
    "collapsed": true
   },
   "outputs": [],
   "source": [
    "bin_visualizer = SearchVisualizer(BinarySearch)"
   ]
  },
  {
   "cell_type": "code",
   "execution_count": 13,
   "metadata": {},
   "outputs": [
    {
     "data": {
      "image/png": "[encoded data removed]",
      "text/plain": [
       "<matplotlib.figure.Figure at 0x7f93d414b710>"
      ]
     },
     "metadata": {},
     "output_type": "display_data"
    }
   ],
   "source": [
    "bin_visualizer.analyze()"
   ]
  },
  {
   "cell_type": "markdown",
   "metadata": {},
   "source": [
    "## `compare(algs)`\n",
    "\n",
    "`algs` is a list of classes derived from `SearchingAlgorithm`. It performs tests and plots the bar graph comapring the number of basic operations performed by each algorithm.\n"
   ]
  },
  {
   "cell_type": "markdown",
   "metadata": {},
   "source": [
    "## Example File\n",
    "\n",
    "You can see more examples at [Github](https://github.com/OpenWeavers/OpenAlgorithm/blob/master/Python/AnalysisTest/searching.py)"
   ]
  }
 ],
 "metadata": {
  "kernelspec": {
   "display_name": "Python 3",
   "language": "python",
   "name": "python3"
  },
  "language_info": {
   "codemirror_mode": {
    "name": "ipython",
    "version": 3
   },
   "file_extension": ".py",
   "mimetype": "text/x-python",
   "name": "python",
   "nbconvert_exporter": "python",
   "pygments_lexer": "ipython3",
   "version": "3.5.3"
  }
 },
 "nbformat": 4,
 "nbformat_minor": 2
}

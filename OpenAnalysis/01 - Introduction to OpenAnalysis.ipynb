{
 "cells": [
  {
   "cell_type": "markdown",
   "metadata": {},
   "source": [
    "# Introduction to `openAnalysis`\n",
    "\n",
    "In our daily life, we encounter many algorithms. Knowingly or Unknowingly, algorithms make our life easier. Analysis of algorithms is a special field of interest in Computer Science. Analysis evaluates the algorithm, and leads to invention of faster algorithms. Visualization leads to the better understanding of how algorithms work. The package `openAnalysis` is inteded as a tool for analyzing and visualizing algorithms.\n",
    "\n",
    "\n",
    "## Types of supported algorithms\n",
    "\n",
    "The following types of algorithms are currently supported. We plan to support more kind of algorithms in the future.\n",
    "\n",
    "- Comparison based Sorting Algorithms ( Analysis + Visualization )\n",
    "- Comparison based Searching Algorithms (  Analysis )\n",
    "- Comparison based Pattern Matching Algorithms (  Analysis )\n",
    "- Data Structures and Related algorithms ( Visualization )\n",
    "- Graph Algorithms based on Tree Growth technique ( Visualizaiton )\n",
    "- Graph Algorithms utilizing Matrix and Dynamic Programming ( Visualization )\n",
    "\n",
    "## Setting up `OpenAnalysis`\n",
    "\n",
    "`openAnalysis` is only supported on Python versions which are greater than 3.5. Once you have suitable version of Python installed, you can simply obtain `openAnalysis` via `pip` (or `pip3`, if you have multiple versions of Python installed)\n",
    "\n",
    "    sudo pip install openAnalysis\n",
    "\n",
    "If all things go well, you have working installation of `OpenAnalysis`.\n",
    "\n",
    "## Inside the package\n",
    "\n",
    "`OpenAnalysis` has following package structure.\n",
    "\n",
    "\n",
    "    openAnalysis/\n",
    "    ├── base_data_structures.py            - Provides PriorityQueue and UnionFind data  structures\n",
    "    ├── datastructures.py                  - Provides classes for Data Structure Visualization\n",
    "    ├── matrix_animator.py                 - Provides classes for DP based Graph algorithms\n",
    "    ├── searching.py                       - Provides classes for Sorting algorithms\n",
    "    ├── sorting.py                         - Provides classes for Searching algorithms\n",
    "    ├── string_matching.py                 - Provides classes for String Matching algorithms\n",
    "    └── tree_growth.py                     - Provides classes for Tree growth based Graph Algorithms\n",
    "    \n",
    "## `import`ing the modules\n",
    "\n",
    "Since `openAnalysis` root does not have any executable as is, we will import methods from its modules. In further chapters, we shall see the purpose of every modules and shall use it.\n",
    "\n",
    "     \n",
    "## key factor for analysis\n",
    "\n",
    "In Computer Science, running time of algorithms is greately considered. Every alorithm solves the given instance of problem by performing some basic operation. The time taken by the algorithm is directly proportional to number of basic operations it has performed. \n",
    "\n",
    "In normal working environment, time taken by the algorithm to solve a problem is affected by task scheduling performed by OS. We have to fit the obtained running time data in order to analyse the algorithm. Instead of using running time as a key for analysis, we will use number of basic operations as a key in `openAnalysis`. \n",
    "\n",
    "This change in key factor implies, we have to adhere to a standard for implementing algorithms. In fact. `OpenAnalysis` provides such standards, either in the form of rules, or in the form of Base Classes. We shall see those rules in upcomming chapter. In future builds, we plan to include Time-based analysis also."
   ]
  }
 ],
 "metadata": {
  "kernelspec": {
   "display_name": "Python 3",
   "language": "python",
   "name": "python3"
  },
  "language_info": {
   "codemirror_mode": {
    "name": "ipython",
    "version": 3
   },
   "file_extension": ".py",
   "mimetype": "text/x-python",
   "name": "python",
   "nbconvert_exporter": "python",
   "pygments_lexer": "ipython3",
   "version": "3.5.3"
  }
 },
 "nbformat": 4,
 "nbformat_minor": 2
}

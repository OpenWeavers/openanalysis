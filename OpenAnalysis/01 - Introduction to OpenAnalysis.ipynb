{
 "cells": [
  {
   "cell_type": "markdown",
   "metadata": {},
   "source": [
    "# Introduction to `OpenAnalysis`\n",
    "\n",
    "In our daily life, we encounter many algorithms. Knowingly or Unknowingly, algorithms make our life easier. Analysis of algorithms is a special field of interest in Computer Science. Analysis evaluates the algorithm, and leads to invention of faster algorithms. Visualization leads to the better understanding of how algorithms work. The package `OpenAnalysis` is inteded as a tool for analyzing and visualizing algorithms.\n",
    "\n",
    "\n",
    "## Types of supported algorithms\n",
    "\n",
    "The following types of algorithms are currently supported. We plan to support more kind of algorithms in the future.\n",
    "\n",
    "- Comparision based Sorting Algorithms ( Analysis + Visualization )\n",
    "- Comparision based Searching Algorithms (  Analysis )\n",
    "- Comparision based Pattern Matching Algorithms (  Analysis )\n",
    "- Data Structures and Related algorithms ( Visualization )\n",
    "- Graph Algorithms based on Tree Growth techinique ( Visualizaiton )\n",
    "- Graph Algorithms utilizing Matrix and Dynamic Programming ( Visualization )\n",
    "\n",
    "## Setting up `OpenAnalysis`\n",
    "\n",
    "`OpenAnalysis` is only supported on Python versions which are greater than 3.5. Once you have suitable version of Python installed, you can simply obtain `OpenAnalysis` via `pip` (or `pip3`, if you have multiple versions of Python installed)\n",
    "\n",
    "    sudo pip install OpenAnalysis\n",
    "\n",
    "If all things go well, you have working installation of `OpenAnalysis`.\n",
    "\n",
    "## Inside the package\n",
    "\n",
    "`OpenAnalysis` has following package structure.\n",
    "\n",
    "\n",
    "     OpenAnalysis/\n",
    "    ├── base_data_structures.py            - Provides PriorityQueue and UnionFind data  structures\n",
    "    ├── datastructures.py                  - Provides classes for Data Structure Visualization\n",
    "    ├── matrix_animator.py                 - Provides classes for DP based Graph algorithms\n",
    "    ├── searching.py                       - Provides classes for Sorting algorithms\n",
    "    ├── sorting.py                         - Provides classes for Searching algorithms\n",
    "    └── tree_growth.py                     - Provides classes for Tree growth based Graph Algorithms\n",
    "    \n",
    "## `import`ing the modules\n",
    "\n",
    "Since `OpenAnalysis` root does not have any executable as is, we will import methods from its modules. In further chapters, we shall see the purpose of every modules and shall use it.\n",
    "\n",
    "     \n",
    " "
   ]
  }
 ],
 "metadata": {
  "kernelspec": {
   "display_name": "Python 3",
   "language": "python",
   "name": "python3"
  },
  "language_info": {
   "codemirror_mode": {
    "name": "ipython",
    "version": 3
   },
   "file_extension": ".py",
   "mimetype": "text/x-python",
   "name": "python",
   "nbconvert_exporter": "python",
   "pygments_lexer": "ipython3",
   "version": "3.5.3"
  }
 },
 "nbformat": 4,
 "nbformat_minor": 2
}

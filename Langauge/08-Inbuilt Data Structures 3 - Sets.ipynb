{
 "cells": [
  {
   "cell_type": "markdown",
   "metadata": {},
   "source": [
    "\n",
    "# Sets\n",
    "\n",
    "Set is a mutable, unordered collection of unique, hashable elements(may be of same or different types), which is indexed by a 0-based integer.\n",
    "\n",
    "## Creating Set\n",
    "\n",
    "- Creating an empty set\n",
    "\n",
    "```python\n",
    "       x = set()  \n",
    "```\n",
    "\n",
    "- Creating set with some initial elements\n",
    "\n",
    "```python\n",
    "    x = {2,3,0,'g'}\n",
    "```\n",
    "   - Creating an empty set with `{}` is not possible as `{}` is reserved for dictionary `dict` objects"
   ]
  },
  {
   "cell_type": "code",
   "execution_count": 3,
   "metadata": {},
   "outputs": [
    {
     "data": {
      "text/plain": [
       "{1, 2, 3, 5}"
      ]
     },
     "execution_count": 3,
     "metadata": {},
     "output_type": "execute_result"
    }
   ],
   "source": [
    "x = {1,2,5,3}\n",
    "x"
   ]
  },
  {
   "cell_type": "markdown",
   "metadata": {},
   "source": [
    "## Accessing Set Elements\n",
    "Being an unordered collection, sets do not record element position or order of insertion. Accordingly, sets do not support indexing, slicing, or other sequence-like behavior."
   ]
  },
  {
   "cell_type": "markdown",
   "metadata": {},
   "source": [
    "## Operations on Set\n",
    "Like any other collection, `set` supports membership operators `in` and `not in`, elements of `set` can be iterated. If `A` and `B` are 2 sets,Following is a list of other operations on set\n",
    "\n",
    "- `A.union(B)` - returns $A\\cup B$\n",
    "- `A.union_update(B)` - $A= A\\cup B$\n",
    "- `A.intersection(B)` - returns $A\\cap B$\n",
    "- `A.intersection_update(B)` - $A= A\\cap B$\n",
    "- `A.isdisjoint(B)` - returns $A\\cap B == \\emptyset$\n",
    "- `A.issubset(B)` - returns $A \\subseteq B$\n",
    "- `A.issuperset(B)` - returns $A \\supseteq B$\n",
    "\n",
    "Other operations like set difference are also supported"
   ]
  },
  {
   "cell_type": "code",
   "execution_count": 5,
   "metadata": {},
   "outputs": [
    {
     "data": {
      "text/plain": [
       "{1, 2, 3, 5}"
      ]
     },
     "execution_count": 5,
     "metadata": {},
     "output_type": "execute_result"
    }
   ],
   "source": [
    "x"
   ]
  },
  {
   "cell_type": "code",
   "execution_count": 6,
   "metadata": {},
   "outputs": [
    {
     "data": {
      "text/plain": [
       "{1, 2, 3, 4, 5, 6}"
      ]
     },
     "execution_count": 6,
     "metadata": {},
     "output_type": "execute_result"
    }
   ],
   "source": [
    "x.union([2,4,6])"
   ]
  },
  {
   "cell_type": "code",
   "execution_count": 7,
   "metadata": {},
   "outputs": [
    {
     "data": {
      "text/plain": [
       "{2, 3}"
      ]
     },
     "execution_count": 7,
     "metadata": {},
     "output_type": "execute_result"
    }
   ],
   "source": [
    "x.intersection([2,3])"
   ]
  },
  {
   "cell_type": "code",
   "execution_count": 8,
   "metadata": {
    "collapsed": true
   },
   "outputs": [],
   "source": [
    "x.intersection_update([1,3,4])"
   ]
  },
  {
   "cell_type": "code",
   "execution_count": 9,
   "metadata": {},
   "outputs": [
    {
     "data": {
      "text/plain": [
       "{1, 3}"
      ]
     },
     "execution_count": 9,
     "metadata": {},
     "output_type": "execute_result"
    }
   ],
   "source": [
    "x"
   ]
  },
  {
   "cell_type": "markdown",
   "metadata": {},
   "source": [
    "<div class=\"alert alert-info\">\n",
    "**Note**: Graph and Sets\n",
    "\n",
    "\n",
    "\n",
    "Many Graph Algorithms are modelled using sets. A Graph $G$ is considered as a collection of sets of vertices $V$ and sets of edges $E$\n",
    "\n",
    "</div>"
   ]
  },
  {
   "cell_type": "markdown",
   "metadata": {},
   "source": [
    "## Set of Sets\n",
    "In many cases, it is required to have set of sets as in case of finding subsets of a set. Since `set` is not hashable, it is **not possible to have a `set` as an element of `set`**. In this case `frozenset` comes handy. The only difference between `frozenset` and a `set` is that `frozenset` is immutable. We have to reassign value to it if we want to modify it."
   ]
  }
 ],
 "metadata": {
  "kernelspec": {
   "display_name": "Python 3",
   "language": "python",
   "name": "python3"
  },
  "language_info": {
   "codemirror_mode": {
    "name": "ipython",
    "version": 3
   },
   "file_extension": ".py",
   "mimetype": "text/x-python",
   "name": "python",
   "nbconvert_exporter": "python",
   "pygments_lexer": "ipython3",
   "version": "3.5.3"
  }
 },
 "nbformat": 4,
 "nbformat_minor": 2
}

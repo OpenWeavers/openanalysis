{
 "cells": [
  {
   "cell_type": "markdown",
   "metadata": {},
   "source": [
    "# Inheritance\n",
    "Inheritance means extending the properties of one class by another. Inheritance implies code reusability, because client classes does not need to implement everything from scratch. They can simply refer to their base classes to execute the code.\n",
    "\n",
    "Unlike `Java` and `C#`, like `C++`, Python allows Multiple inheritance. Name resolution is done by the order in which base classes are specified.\n",
    "\n",
    "\n",
    "#### Syntax\n",
    "\n",
    "```python\n",
    "    class ClassName(BaseClass1[,BaseClass2,....,BaseClassN]):\n",
    "        <statement 0>\n",
    "        <statement 1>\n",
    "        <statement 2>\n",
    "        ...\n",
    "        ...\n",
    "        ...\n",
    "        <statement n>\n",
    "```\n",
    "\n",
    "## A First Example"
   ]
  },
  {
   "cell_type": "code",
   "execution_count": 3,
   "metadata": {
    "collapsed": true
   },
   "outputs": [],
   "source": [
    "class Person:\n",
    "     \n",
    "    # Constructor\n",
    "    def __init__(self, name,age):\n",
    "        self.name = name\n",
    "        self.age = age\n",
    "     \n",
    "    def __str__(self):\n",
    "        return 'name = {}\\nage = {}'.format(self.name,self.age)\n",
    " \n",
    "# Inherited or Sub class \n",
    "class Employee(Person):\n",
    "    \n",
    "    def __init__(self,name,age,employee_id):\n",
    "        Person.__init__(self,name,age) # Referring Base class\n",
    "        # Also be done by super(Employee,self).__init__(name,age)\n",
    "        self.employee_id = employee_id\n",
    " \n",
    "    # Overriding implied code reusability\n",
    "    def __str__(self):\n",
    "        return Person.__str__(self) + '\\nemployee id = {}'.format(self.employee_id)"
   ]
  },
  {
   "cell_type": "code",
   "execution_count": 4,
   "metadata": {},
   "outputs": [
    {
     "name": "stdout",
     "output_type": "stream",
     "text": [
      "name = Kiran\n",
      "age = 18\n"
     ]
    }
   ],
   "source": [
    "s = Person('Kiran',18)\n",
    "print(s)"
   ]
  },
  {
   "cell_type": "code",
   "execution_count": 6,
   "metadata": {},
   "outputs": [
    {
     "name": "stdout",
     "output_type": "stream",
     "text": [
      "name = Ramesh\n",
      "age = 18\n",
      "employee id = 48\n"
     ]
    }
   ],
   "source": [
    "e = Employee('Ramesh',18,48)\n",
    "print(e)"
   ]
  },
  {
   "cell_type": "markdown",
   "metadata": {},
   "source": [
    "----\n",
    "<div class=\"alert alert-info\">\n",
    "\n",
    "\n",
    "**Note**\n",
    "\n",
    "\n",
    "Base class can be referred from derived class in two ways\n",
    "\n",
    "- Base Class name\n",
    "\n",
    "    BaseClass.function(self,args)\n",
    "    \n",
    "- using `super()`\n",
    "    \n",
    "    super(self,DerivedClass).function(args)\n",
    "    \n",
    "</div>"
   ]
  },
  {
   "cell_type": "markdown",
   "metadata": {},
   "source": [
    "## Multiple inheritance and Order of Invocation of Methods"
   ]
  },
  {
   "cell_type": "code",
   "execution_count": 7,
   "metadata": {
    "collapsed": true
   },
   "outputs": [],
   "source": [
    "class Base1:\n",
    "    def some_method(self):\n",
    "        print('Base1')\n",
    "        \n",
    "    \n",
    "class Base2:\n",
    "    def some_method(self):\n",
    "        print('Base2')\n",
    "        \n",
    "class Derived1(Base1,Base2):\n",
    "    pass\n",
    "\n",
    "class Derived2(Base2,Base1):\n",
    "    pass"
   ]
  },
  {
   "cell_type": "markdown",
   "metadata": {},
   "source": [
    "Note how `pass` statement is used to leave the class body empty. Otherwise it would have raised a Syntax Error. Since `Drived1` and `Derived2` are empty, they would have imported the methods from their base classes"
   ]
  },
  {
   "cell_type": "code",
   "execution_count": 8,
   "metadata": {
    "collapsed": true
   },
   "outputs": [],
   "source": [
    "d1 = Derived1()\n",
    "d2 = Derived2()"
   ]
  },
  {
   "cell_type": "markdown",
   "metadata": {},
   "source": [
    "Now what will be the result of invoking `some_method` on `d1` and `d2`? ... Does the name clash ocuur? ... Let's see"
   ]
  },
  {
   "cell_type": "code",
   "execution_count": 9,
   "metadata": {},
   "outputs": [
    {
     "name": "stdout",
     "output_type": "stream",
     "text": [
      "Base1\n"
     ]
    }
   ],
   "source": [
    "d1.some_method()"
   ]
  },
  {
   "cell_type": "code",
   "execution_count": 10,
   "metadata": {},
   "outputs": [
    {
     "name": "stdout",
     "output_type": "stream",
     "text": [
      "Base2\n"
     ]
    }
   ],
   "source": [
    "d2.some_method()"
   ]
  },
  {
   "cell_type": "markdown",
   "metadata": {},
   "source": [
    "Wow! ... It executed smoothly ...\n",
    "\n",
    "If a name of a function is same in base classes, the one will be executed, which appears first in the base class list"
   ]
  }
 ],
 "metadata": {
  "kernelspec": {
   "display_name": "Python 3",
   "language": "python",
   "name": "python3"
  },
  "language_info": {
   "codemirror_mode": {
    "name": "ipython",
    "version": 3
   },
   "file_extension": ".py",
   "mimetype": "text/x-python",
   "name": "python",
   "nbconvert_exporter": "python",
   "pygments_lexer": "ipython3",
   "version": "3.5.3"
  }
 },
 "nbformat": 4,
 "nbformat_minor": 2
}

{
 "cells": [
  {
   "cell_type": "markdown",
   "metadata": {},
   "source": [
    "# Going Further\n",
    "Now that you have touched Python, you can tell how easy it is! Python makes many things possible that would be possible with many complications in `C` or `Java`.\n",
    "\n",
    "- You can use as many libraries as you want, __Don't__ code everything from the scratch\n",
    "    - `requests` for sending HTTP Request\n",
    "    - `scipy` for Scientific Computation\n",
    "    - `numpy` for High Performace Arrays\n",
    "    - `tensorflow` for neural networks (By Google)\n",
    "  and many more\n",
    "  \n",
    "  \n",
    "- Make your code well documented with the usage of docstrings\n",
    "\n",
    "- Don't hesitate to Google\n",
    "\n",
    "- [StackOverflow](https://stackoverflow.com/questions/tagged/python) is the place \n",
    "\n",
    "- Feel free to contribute to this project at [GitHub](https://github.com/OpenWeavers/OpenAlgorithm)\n",
    "\n",
    "\n",
    "*** Good Luck Ahead! ***"
   ]
  }
 ],
 "metadata": {
  "kernelspec": {
   "display_name": "Python 3",
   "language": "python",
   "name": "python3"
  },
  "language_info": {
   "codemirror_mode": {
    "name": "ipython",
    "version": 3
   },
   "file_extension": ".py",
   "mimetype": "text/x-python",
   "name": "python",
   "nbconvert_exporter": "python",
   "pygments_lexer": "ipython3",
   "version": "3.5.3"
  }
 },
 "nbformat": 4,
 "nbformat_minor": 2
}

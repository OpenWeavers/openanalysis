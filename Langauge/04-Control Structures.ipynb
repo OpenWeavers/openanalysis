{
 "cells": [
  {
   "cell_type": "markdown",
   "metadata": {},
   "source": [
    "# Control Structures\n",
    "Control Structures construct a fundamental part of language along with syntax,semantics and core libraries. It is the Control Structures which makes the program more lively. Since they contol the flow of execution of program, they are named Control structures"
   ]
  },
  {
   "cell_type": "markdown",
   "metadata": {},
   "source": [
    "## `if` condition\n",
    "### Usage:\n",
    "\n",
    "```python\n",
    "    if condition:\n",
    "        statement_1\n",
    "        statement_2\n",
    "        ...\n",
    "        statement_n\n",
    "```\n",
    "\n",
    "Note that a block of code means, same indentation( i.e., same number of tabs before it). Here `statement_1` upto `statement_n` are in `if` block. This enhances the code readability\n",
    "\n",
    "### Example:"
   ]
  },
  {
   "cell_type": "code",
   "execution_count": 58,
   "metadata": {},
   "outputs": [
    {
     "name": "stdout",
     "output_type": "stream",
     "text": [
      "Enter an integer : 8\n",
      "8 is an even number\n"
     ]
    }
   ],
   "source": [
    "response = input(\"Enter an integer : \")\n",
    "num = int(response)\n",
    "if num%2 == 0:\n",
    "    print(\"{} is an even number\".format(num))"
   ]
  },
  {
   "cell_type": "markdown",
   "metadata": {},
   "source": [
    "#### Note\n",
    "`int(response)` converted the string `response` to integer. If user enters anything other than integer,  `ValueError` is raised"
   ]
  },
  {
   "cell_type": "markdown",
   "metadata": {},
   "source": [
    "## `if-else` condition\n",
    "### Usage:\n",
    "\n",
    "```python\n",
    "    if condition:\n",
    "        statement_1\n",
    "        statement_2\n",
    "        ...\n",
    "        statement_n\n",
    "    else:\n",
    "        statement_1\n",
    "        statement_2\n",
    "        ...\n",
    "        statement_n\n",
    "```\n",
    "        \n",
    "### Example:"
   ]
  },
  {
   "cell_type": "code",
   "execution_count": 59,
   "metadata": {},
   "outputs": [
    {
     "name": "stdout",
     "output_type": "stream",
     "text": [
      "Enter an integer : 5\n",
      "5 is an odd number\n"
     ]
    }
   ],
   "source": [
    "response = input(\"Enter an integer : \")\n",
    "num = int(response)\n",
    "if num%2 == 0:\n",
    "    print(\"{} is an even number\".format(num))\n",
    "else:\n",
    "    print(\"{} is an odd number\".format(num))"
   ]
  },
  {
   "cell_type": "markdown",
   "metadata": {},
   "source": [
    "##  Single Line `if-else`\n",
    "\n",
    "This serves as a replacement for ternery operator avaliable in `C`\n",
    "\n",
    "### Usage:\n",
    "\n",
    "`C` ternery\n",
    "\n",
    "```c\n",
    "    result = (condition) ? value_true : value_false\n",
    "```\n",
    "\n",
    "Python Single Line `if else` \n",
    "\n",
    "```python\n",
    "    result = value_true if condition else value_false\n",
    "```    \n",
    "\n",
    "### Example:"
   ]
  },
  {
   "cell_type": "code",
   "execution_count": 60,
   "metadata": {},
   "outputs": [
    {
     "name": "stdout",
     "output_type": "stream",
     "text": [
      "Enter an integer : 9\n",
      "9 is odd number\n"
     ]
    }
   ],
   "source": [
    "response = input(\"Enter an integer : \")\n",
    "num = int(response)\n",
    "result = \"even\" if num%2==0 else \"odd\"\n",
    "print(\"{} is {} number\".format(num,result))"
   ]
  },
  {
   "cell_type": "markdown",
   "metadata": {},
   "source": [
    "## `if-else` ladder\n",
    "### Usage:\n",
    "\n",
    "```python  \n",
    "    if condition_1:\n",
    "        statements_1\n",
    "    elif condition_2:\n",
    "        statements_2\n",
    "    elif condition_3:\n",
    "        statements_3\n",
    "    ...\n",
    "    ...\n",
    "    ...\n",
    "    elif condition_n:\n",
    "        statements_n\n",
    "    else:\n",
    "        statements_last\n",
    "```\n",
    "        \n",
    "Note the use of `elif` instead of `else if` like in `C`,`Java` or `C#`\n",
    "        \n",
    "### Example:"
   ]
  },
  {
   "cell_type": "code",
   "execution_count": 63,
   "metadata": {},
   "outputs": [
    {
     "name": "stdout",
     "output_type": "stream",
     "text": [
      "Enter an integer (+ve or -ve) : -78\n",
      "-78 is -ve\n"
     ]
    }
   ],
   "source": [
    "response = input(\"Enter an integer (+ve or -ve) : \")\n",
    "num = int(response)\n",
    "if num > 0:\n",
    "    print(\"{} is +ve\".format(num))\n",
    "elif num == 0:\n",
    "    print(\"Zero\")\n",
    "else:\n",
    "    print(\"{} is -ve\".format(num))"
   ]
  },
  {
   "cell_type": "markdown",
   "metadata": {},
   "source": [
    "-----------\n",
    "**Note**: There is no `switch-case` structure in Python. It can be realized using `if-else ladder` or any other ways"
   ]
  },
  {
   "cell_type": "markdown",
   "metadata": {},
   "source": [
    "## `while` loop\n",
    "### Usage:\n",
    "    \n",
    "```python\n",
    "    while condition:\n",
    "        statement_1\n",
    "        statement_2\n",
    "        ...\n",
    "        statement_n\n",
    "```\n",
    "### Example:"
   ]
  },
  {
   "cell_type": "code",
   "execution_count": 65,
   "metadata": {},
   "outputs": [
    {
     "name": "stdout",
     "output_type": "stream",
     "text": [
      "Enter an integer : 5\n",
      "Fib[0] = 1,Fib[1] = 2,Fib[2] = 3,Fib[3] = 5,Fib[4] = 8,"
     ]
    }
   ],
   "source": [
    "response = input(\"Enter an integer : \")\n",
    "num = int(response)\n",
    "prev,current = 0,1\n",
    "i = 0\n",
    "while i < num:\n",
    "    prev,current = current,prev + current\n",
    "    print('Fib[{}] = {}'.format(i,current),end=',')\n",
    "    i += 1"
   ]
  },
  {
   "cell_type": "markdown",
   "metadata": {},
   "source": [
    "Note the\n",
    "- Multiple assignments in single statement\n",
    "- Shorthand Operator `+=` as there are no `++` and `--` operators in Python as they are in `C`\n",
    "\n",
    "**There is no `do-while` loop in Python**"
   ]
  },
  {
   "cell_type": "markdown",
   "metadata": {},
   "source": [
    "## `for` loop\n",
    "### Usage:\n",
    "\n",
    "```python\n",
    "    for object in collection:\n",
    "        do_something_with_object\n",
    "```\n",
    "        \n",
    "#### Notes\n",
    "- `C` like `for(init;test;modify)` is not supported in Python\n",
    "- Python provides `range` object for iterating over numbers\n",
    "\n",
    "Usage of `range` object:\n",
    "\n",
    "```python\n",
    "    x = range(start = 0,stop,step = 1)\n",
    "```\n",
    "    \n",
    "now `x` can be iterated, and it generates numbers including `start` excluding `stop` differing in the steps of `step`\n",
    "\n",
    "### Example:"
   ]
  },
  {
   "cell_type": "code",
   "execution_count": 66,
   "metadata": {},
   "outputs": [
    {
     "name": "stdout",
     "output_type": "stream",
     "text": [
      "0,1,2,3,4,5,6,7,8,9,"
     ]
    }
   ],
   "source": [
    "for i in range(10):\n",
    "    print(i,end=',')"
   ]
  },
  {
   "cell_type": "code",
   "execution_count": 67,
   "metadata": {},
   "outputs": [
    {
     "name": "stdout",
     "output_type": "stream",
     "text": [
      "2,5,8,"
     ]
    }
   ],
   "source": [
    "for i in range(2,10,3):\n",
    "    print(i,end=',')"
   ]
  },
  {
   "cell_type": "code",
   "execution_count": 68,
   "metadata": {},
   "outputs": [
    {
     "name": "stdout",
     "output_type": "stream",
     "text": [
      "Enter an integer : 5\n",
      "Fib[0] = 1,Fib[1] = 2,Fib[2] = 3,Fib[3] = 5,Fib[4] = 8,"
     ]
    }
   ],
   "source": [
    "response = input(\"Enter an integer : \")\n",
    "num = int(response)\n",
    "prev,current = 0,1\n",
    "for i in range(num):\n",
    "    prev,current = current,prev + current\n",
    "    print('Fib[{}] = {}'.format(i,current),end=',')"
   ]
  },
  {
   "cell_type": "markdown",
   "metadata": {},
   "source": [
    "**Note**: Loop control statements `break` and `continue` work in the same way as they work in `C`"
   ]
  }
 ],
 "metadata": {
  "kernelspec": {
   "display_name": "Python 3",
   "language": "python",
   "name": "python3"
  },
  "language_info": {
   "codemirror_mode": {
    "name": "ipython",
    "version": 3
   },
   "file_extension": ".py",
   "mimetype": "text/x-python",
   "name": "python",
   "nbconvert_exporter": "python",
   "pygments_lexer": "ipython3",
   "version": "3.5.3"
  }
 },
 "nbformat": 4,
 "nbformat_minor": 2
}

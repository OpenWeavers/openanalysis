{
 "cells": [
  {
   "cell_type": "markdown",
   "metadata": {},
   "source": [
    "# Object Oriented Programming\n",
    "In Object Oriented Programming, everything is object. Objects are real world entities having some attributes and some related methods that operate on attributes. We assume that reader has some familiarity with object oriented concepts as Inheritance, Polymorphism, Abstraction and so on ...\n",
    "\n",
    "## Defining Classes\n",
    "\n",
    "\n",
    "Syntax:\n",
    "\n",
    "```python\n",
    "    class ClassName:\n",
    "        <statement 1>\n",
    "        <statement 2>\n",
    "        ....\n",
    "        ....\n",
    "        <statement n>\n",
    "```\n",
    "\n",
    "## Special Methods inside the class\n",
    "Unlike `C++` and `Java` classes, class methods does not hold the reference of current object (`this` object). Class methods should take the class object as their first argument. This is not required for static methods. At the point of invocation of object methods, the object is passed to method implicitly. It is a covention to name the first parameter of class method as `self`. Now let's see some special functions of classes.\n",
    "\n",
    "- `__init__(self,elements)` : Constructor, called when object is created. All properties of object has to be declared here\n",
    "\n",
    "- `__del__(self)` : Destructor, called when `del` is applied to an object.\n",
    "\n",
    "- `__str__(self)` : Returns the string representation of object. Called when `str()` is called on object.\n",
    "\n",
    "- `__iter__(self)` : Returns the iterator of elements of object. Called wehn `iter()` is called on object. Also this enables to use `for ele in object` like construct\n",
    "- `__len(self)__` : Returns the length of collection. Called when `len()` is invoked on object\n",
    "- `__getitem(self,item)__` : Allows to use `object[item]` like accessor to get a item\n",
    "\n",
    "## Static members and methods\n",
    "Any member declared inside the class, but not in the methods, are shared by all instances of classes. A method annotated with `@staticmethod` is static method, and doesn't recieve class object as it's first parameter.\n",
    "\n",
    "## A note on `private` members\n",
    "A member or method whose name starts with '`__`' is regarded as a private member or method.\n",
    "\n",
    "\n",
    "## A sample class, `Student`\n",
    "Here we implement a simple `Student` class."
   ]
  },
  {
   "cell_type": "code",
   "execution_count": 86,
   "metadata": {
    "collapsed": true
   },
   "outputs": [],
   "source": [
    "class Student:\n",
    "    count = 0 # Total number of objects created so far\n",
    "    \n",
    "    def __init__(self,name,usn,marks):\n",
    "        \"\"\"\n",
    "        Constructor of class Student\n",
    "        Input: name - name of the student : string\n",
    "               usn  - university serial number : string\n",
    "               marks - marks in 3 subjects out of 20\n",
    "        \"\"\"\n",
    "        Student.count += 1\n",
    "        self.name = name \n",
    "        self.usn  = usn\n",
    "        self.marks = marks[:] # Copy marks to self.marks .. a simple self.marks = marks make only reference equal\n",
    "    \n",
    "    def print_details(self):\n",
    "        print(str(self))\n",
    "    \n",
    "    def total_marks(self):\n",
    "        return sum(marks)\n",
    "        \n",
    "    def __iter__(self):\n",
    "        details = {'name':self.name,'usn':self.usn,'marks':self.marks}\n",
    "        for k,v in details.items():\n",
    "            yield k,v # A tuple\n",
    "    \n",
    "    def __str__(self):\n",
    "        return \"Name : {0} \\nUSN = {1}\\n Marks in 3 subjects = {2}\".format(self.name,self.usn,self.marks)\n",
    "    \n",
    "    @staticmethod\n",
    "    def get_total_count():\n",
    "        return Student.count"
   ]
  },
  {
   "cell_type": "code",
   "execution_count": 87,
   "metadata": {
    "collapsed": true
   },
   "outputs": [],
   "source": [
    "s1 = Student('Ramesh','4jc11cs111',[20,16,18])\n",
    "s2 = Student('Ravi','4jc15cs112',[15,18,18])"
   ]
  },
  {
   "cell_type": "code",
   "execution_count": 88,
   "metadata": {},
   "outputs": [
    {
     "name": "stdout",
     "output_type": "stream",
     "text": [
      "Name : Ramesh \n",
      "USN = 4jc11cs111\n",
      " Marks in 3 subjects = [20, 16, 18]\n"
     ]
    }
   ],
   "source": [
    "print(s1) # calls __str__()"
   ]
  },
  {
   "cell_type": "code",
   "execution_count": 89,
   "metadata": {},
   "outputs": [
    {
     "name": "stdout",
     "output_type": "stream",
     "text": [
      "Name : Ravi \n",
      "USN = 4jc15cs112\n",
      " Marks in 3 subjects = [15, 18, 18]\n"
     ]
    }
   ],
   "source": [
    "print(s2)"
   ]
  },
  {
   "cell_type": "code",
   "execution_count": 91,
   "metadata": {},
   "outputs": [
    {
     "data": {
      "text/plain": [
       "2"
      ]
     },
     "execution_count": 91,
     "metadata": {},
     "output_type": "execute_result"
    }
   ],
   "source": [
    "Student.count"
   ]
  },
  {
   "cell_type": "code",
   "execution_count": 90,
   "metadata": {},
   "outputs": [
    {
     "data": {
      "text/plain": [
       "2"
      ]
     },
     "execution_count": 90,
     "metadata": {},
     "output_type": "execute_result"
    }
   ],
   "source": [
    "Student.get_total_count()"
   ]
  },
  {
   "cell_type": "code",
   "execution_count": 92,
   "metadata": {},
   "outputs": [
    {
     "name": "stdout",
     "output_type": "stream",
     "text": [
      "usn = 4jc11cs111\n",
      "name = Ramesh\n",
      "marks = [20, 16, 18]\n"
     ]
    }
   ],
   "source": [
    "for k,v in s1:\n",
    "    print('{} = {}'.format(k,v))"
   ]
  },
  {
   "cell_type": "code",
   "execution_count": 95,
   "metadata": {},
   "outputs": [
    {
     "name": "stdout",
     "output_type": "stream",
     "text": [
      "Name : Ramesh \n",
      "USN = 4jc11cs111\n",
      " Marks in 3 subjects = [20, 16, 18]\n"
     ]
    }
   ],
   "source": [
    "s1.print_details()       # self of Student.print_details(self) is passes as s1"
   ]
  },
  {
   "cell_type": "code",
   "execution_count": 97,
   "metadata": {},
   "outputs": [
    {
     "name": "stdout",
     "output_type": "stream",
     "text": [
      "Name : Ramesh \n",
      "USN = 4jc11cs111\n",
      " Marks in 3 subjects = [20, 16, 18]\n"
     ]
    }
   ],
   "source": [
    "Student.print_details(s1) # Explicitly passing self parameter"
   ]
  },
  {
   "cell_type": "code",
   "execution_count": 98,
   "metadata": {},
   "outputs": [
    {
     "data": {
      "text/plain": [
       "2"
      ]
     },
     "execution_count": 98,
     "metadata": {},
     "output_type": "execute_result"
    }
   ],
   "source": [
    "Student.get_total_count()"
   ]
  },
  {
   "cell_type": "code",
   "execution_count": 100,
   "metadata": {},
   "outputs": [
    {
     "data": {
      "text/plain": [
       "2"
      ]
     },
     "execution_count": 100,
     "metadata": {},
     "output_type": "execute_result"
    }
   ],
   "source": [
    "s1.get_total_count()   # This is also possible, @staticmethod attribute prevents passing object to method"
   ]
  },
  {
   "cell_type": "markdown",
   "metadata": {},
   "source": [
    "## Duck Typing and Interfaces\n",
    "In `C`, `C++`, `Java` and `C#`, we have to predefine the data type of every variables declared. In Python, you may have observed that you are not giving any data type before variable declaration. In fact, python does not require you to do that.\n",
    "\n",
    "In `C`,\n",
    "```c\n",
    "    int x\n",
    "```\n",
    "means storage space allocated to `x` is constant 8 bytes (on x64 system) and this space will never change. This also implies that `x` will never hold other values than int. Trying to do so will raise an compiler error. This nature of `C` makes the language `statically typed`, i.e., data type of a variable is determined at the compile time.\n",
    "\n",
    "On the other hand, In Python, the type of variable is determined entirely during runtime. Storage space allocated to a variable can vary dynamically. When we assign a string to a variable `x`, it will be `str`. If we reassign it to a list, it will be `list`. This duck typing is an application of the duck test in type safety. It requires that type checking be deferred to runtime, and is implemented by means of dynamic typing or reflection.nature of `Python` makes it `dynamically typed` language. It is also called a `Duck typing`.\n",
    "\n",
    "Duck typing is an application of the *duck test* in type safety. It requires that type checking be deferred to runtime, and is implemented by means of dynamic typing or reflection.\n",
    "\n",
    "The Duck test is a humorous term for a form of abductive reasoning. This is its usual expression:\n",
    "\n",
    "\n",
    "    If it looks like a duck, swims like a duck, and quacks like a duck, then it probably is a duck.\n",
    "\n",
    "The duck test can be seen in the following example. As far as the function `in_the_forest` is concerned, the Person object is a duck:"
   ]
  },
  {
   "cell_type": "code",
   "execution_count": 101,
   "metadata": {},
   "outputs": [
    {
     "name": "stdout",
     "output_type": "stream",
     "text": [
      "Quaaaaaack!\n",
      "The duck has white and gray feathers.\n",
      "The person imitates a duck.\n",
      "The person takes a feather from the ground and shows it.\n"
     ]
    }
   ],
   "source": [
    "class Duck:\n",
    "    def quack(self):\n",
    "        print(\"Quaaaaaack!\")\n",
    "    def feathers(self):\n",
    "        print(\"The duck has white and gray feathers.\")\n",
    "\n",
    "class Person:\n",
    "    def quack(self):\n",
    "        print(\"The person imitates a duck.\")\n",
    "    def feathers(self):\n",
    "        print(\"The person takes a feather from the ground and shows it.\")\n",
    "    def name(self):\n",
    "        print(\"John Smith\")\n",
    "\n",
    "def in_the_forest(duck):\n",
    "    duck.quack()\n",
    "    duck.feathers()\n",
    "\n",
    "def game():\n",
    "    donald = Duck()\n",
    "    john = Person()\n",
    "    in_the_forest(donald)\n",
    "    in_the_forest(john)\n",
    "\n",
    "game()"
   ]
  },
  {
   "cell_type": "markdown",
   "metadata": {},
   "source": [
    "## `type()` - Obtaining the data type of a variable"
   ]
  },
  {
   "cell_type": "code",
   "execution_count": 102,
   "metadata": {},
   "outputs": [
    {
     "data": {
      "text/plain": [
       "int"
      ]
     },
     "execution_count": 102,
     "metadata": {},
     "output_type": "execute_result"
    }
   ],
   "source": [
    "x = 8\n",
    "type(x)"
   ]
  },
  {
   "cell_type": "code",
   "execution_count": 103,
   "metadata": {},
   "outputs": [
    {
     "data": {
      "text/plain": [
       "float"
      ]
     },
     "execution_count": 103,
     "metadata": {},
     "output_type": "execute_result"
    }
   ],
   "source": [
    "type(8.5)"
   ]
  },
  {
   "cell_type": "code",
   "execution_count": 104,
   "metadata": {},
   "outputs": [
    {
     "data": {
      "text/plain": [
       "str"
      ]
     },
     "execution_count": 104,
     "metadata": {},
     "output_type": "execute_result"
    }
   ],
   "source": [
    "type('hello')"
   ]
  },
  {
   "cell_type": "code",
   "execution_count": 105,
   "metadata": {},
   "outputs": [
    {
     "data": {
      "text/plain": [
       "list"
      ]
     },
     "execution_count": 105,
     "metadata": {},
     "output_type": "execute_result"
    }
   ],
   "source": [
    "type([1,2,1])"
   ]
  },
  {
   "cell_type": "code",
   "execution_count": 106,
   "metadata": {},
   "outputs": [
    {
     "data": {
      "text/plain": [
       "dict"
      ]
     },
     "execution_count": 106,
     "metadata": {},
     "output_type": "execute_result"
    }
   ],
   "source": [
    "type({})"
   ]
  },
  {
   "cell_type": "code",
   "execution_count": 108,
   "metadata": {},
   "outputs": [
    {
     "data": {
      "text/plain": [
       "tuple"
      ]
     },
     "execution_count": 108,
     "metadata": {},
     "output_type": "execute_result"
    }
   ],
   "source": [
    "type((1,))"
   ]
  },
  {
   "cell_type": "code",
   "execution_count": 109,
   "metadata": {},
   "outputs": [
    {
     "data": {
      "text/plain": [
       "__main__.Student"
      ]
     },
     "execution_count": 109,
     "metadata": {},
     "output_type": "execute_result"
    }
   ],
   "source": [
    "type(s1)"
   ]
  },
  {
   "cell_type": "code",
   "execution_count": 111,
   "metadata": {},
   "outputs": [
    {
     "data": {
      "text/plain": [
       "module"
      ]
     },
     "execution_count": 111,
     "metadata": {},
     "output_type": "execute_result"
    }
   ],
   "source": [
    "import random\n",
    "type(random)"
   ]
  },
  {
   "cell_type": "markdown",
   "metadata": {},
   "source": [
    "The main intention of interfaces in `Java` and `C#` was to make the classes to have a set of common functions, which makes their usage alike. Due to Duck Typing, the need for interfaces is now gone"
   ]
  }
 ],
 "metadata": {
  "kernelspec": {
   "display_name": "Python 3",
   "language": "python",
   "name": "python3"
  },
  "language_info": {
   "codemirror_mode": {
    "name": "ipython",
    "version": 3
   },
   "file_extension": ".py",
   "mimetype": "text/x-python",
   "name": "python",
   "nbconvert_exporter": "python",
   "pygments_lexer": "ipython3",
   "version": "3.5.3"
  }
 },
 "nbformat": 4,
 "nbformat_minor": 2
}

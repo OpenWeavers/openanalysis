{
 "cells": [
  {
   "cell_type": "markdown",
   "metadata": {},
   "source": [
    "# Functions\n",
    "If a task has to be performed in a program many times, it is better to code that task as a function. Function is a piece of reusable code that can be invoked(called) from anywhere. They perform the intended task with supplied parameters and return the result if needed.\n",
    "\n",
    "\n",
    "Python function has several advanatages over `C` functions and `Java` methods: \n",
    "- Functions can take variable number of arguments. This is supported natively\n",
    "- Functions can have named arguments (you had seen it in `print()`)\n",
    "- Functions can return multiple values \n",
    "- If you need a helper function for a function, you can define it inside the function\n",
    "\n",
    "## Defining a function\n",
    "The syntax for defining a function is as follows\n",
    "    \n",
    "    \n",
    "```python\n",
    "    def function_name(argument_list):\n",
    "        statement_1\n",
    "        statement_2\n",
    "        ...\n",
    "        statement_n\n",
    "        return values\n",
    "```\n",
    "\n",
    "Let's write a function for calculating $Fib(n)$, $n$'th Fibonacci Number, defined by\n",
    "\n",
    "$Fib(n) = Fib(n-1) + Fib(n-2)$, where $Fib(0) = a$ and $Fib(1) = b$\n",
    "\n",
    "First implementation uses $a = 0,b = 1$. Further implementations include options for modifying $a$ and $b$\n"
   ]
  },
  {
   "cell_type": "code",
   "execution_count": 2,
   "metadata": {
    "collapsed": true
   },
   "outputs": [],
   "source": [
    "def fibonacci_first(n):\n",
    "    first,second = 0,1\n",
    "    while n != 0:\n",
    "        n, first, second = n - 1, second, first + second\n",
    "    return first"
   ]
  },
  {
   "cell_type": "code",
   "execution_count": 3,
   "metadata": {},
   "outputs": [
    {
     "data": {
      "text/plain": [
       "55"
      ]
     },
     "execution_count": 3,
     "metadata": {},
     "output_type": "execute_result"
    }
   ],
   "source": [
    "fibonacci_first(10)       # Function call"
   ]
  },
  {
   "cell_type": "markdown",
   "metadata": {},
   "source": [
    "Let's have an option to choose $a$ and $b$"
   ]
  },
  {
   "cell_type": "code",
   "execution_count": 4,
   "metadata": {
    "collapsed": true
   },
   "outputs": [],
   "source": [
    "def fibonacci_second(n,a,b):\n",
    "    first,second = a,b\n",
    "    while n != 0:\n",
    "        n, first, second = n - 1, second, first + second\n",
    "    return first"
   ]
  },
  {
   "cell_type": "code",
   "execution_count": 5,
   "metadata": {},
   "outputs": [
    {
     "data": {
      "text/plain": [
       "55"
      ]
     },
     "execution_count": 5,
     "metadata": {},
     "output_type": "execute_result"
    }
   ],
   "source": [
    "fibonacci_second(9,1,1)"
   ]
  },
  {
   "cell_type": "markdown",
   "metadata": {},
   "source": [
    "Let $a$ and $b$ have the default values $0$ and $1$ respectively"
   ]
  },
  {
   "cell_type": "code",
   "execution_count": 6,
   "metadata": {
    "collapsed": true
   },
   "outputs": [],
   "source": [
    "def fibonacci_third(n,a=0,b=1):\n",
    "    first,second = a,b\n",
    "    while n != 0:\n",
    "        n, first, second = n - 1, second, first + second\n",
    "    return first"
   ]
  },
  {
   "cell_type": "code",
   "execution_count": 7,
   "metadata": {},
   "outputs": [
    {
     "data": {
      "text/plain": [
       "55"
      ]
     },
     "execution_count": 7,
     "metadata": {},
     "output_type": "execute_result"
    }
   ],
   "source": [
    "fibonacci_third(10)  # behaves like fibonacci_first()"
   ]
  },
  {
   "cell_type": "code",
   "execution_count": 8,
   "metadata": {},
   "outputs": [
    {
     "data": {
      "text/plain": [
       "55"
      ]
     },
     "execution_count": 8,
     "metadata": {},
     "output_type": "execute_result"
    }
   ],
   "source": [
    "fibonacci_third(9,1) # behaves like fibonacci_second(9,1,1)"
   ]
  },
  {
   "cell_type": "code",
   "execution_count": 9,
   "metadata": {},
   "outputs": [
    {
     "data": {
      "text/plain": [
       "89"
      ]
     },
     "execution_count": 9,
     "metadata": {},
     "output_type": "execute_result"
    }
   ],
   "source": [
    "fibonacci_third(9,1,2) # Run with fully different parameters"
   ]
  },
  {
   "cell_type": "markdown",
   "metadata": {},
   "source": [
    "You can also change one default value. You can do this by passing named argument to function"
   ]
  },
  {
   "cell_type": "code",
   "execution_count": 10,
   "metadata": {},
   "outputs": [
    {
     "data": {
      "text/plain": [
       "102"
      ]
     },
     "execution_count": 10,
     "metadata": {},
     "output_type": "execute_result"
    }
   ],
   "source": [
    "fibonacci_third(9,b=3)"
   ]
  },
  {
   "cell_type": "markdown",
   "metadata": {
    "collapsed": true
   },
   "source": [
    "###  What we have to do if we want $n$ Fibonacci Numbers instead of $n$<sup>th</sup> Fibonacci Number?\n",
    "\n",
    "- One soulution is to return a list of $n$ numbers. We will see that once we learn about Lists in next chapter\n",
    "- What we can do now is return an iterable object, that iterates through $n$ Fibonacci nuumbers. Instead of `return`ing a number, we can simply `yield` it to construct a genertor. The resulting Generator object can be used with `for` loop. (remember `range` object) "
   ]
  },
  {
   "cell_type": "code",
   "execution_count": 11,
   "metadata": {
    "collapsed": true
   },
   "outputs": [],
   "source": [
    "def fibonacci_generator(n,a=0,b=1):\n",
    "    first,second = a,b\n",
    "    while n != 0:\n",
    "        yield first\n",
    "        n, first, second = n - 1, second, first + second"
   ]
  },
  {
   "cell_type": "code",
   "execution_count": 12,
   "metadata": {},
   "outputs": [
    {
     "name": "stdout",
     "output_type": "stream",
     "text": [
      "0,1,1,2,3,5,8,13,21,34,"
     ]
    }
   ],
   "source": [
    "for num in fibonacci_generator(10):\n",
    "    print(num,end=',')"
   ]
  },
  {
   "cell_type": "markdown",
   "metadata": {},
   "source": [
    "You can now also use `in` operator to check the membership of an element in the Generator Object"
   ]
  },
  {
   "cell_type": "code",
   "execution_count": 13,
   "metadata": {},
   "outputs": [
    {
     "data": {
      "text/plain": [
       "True"
      ]
     },
     "execution_count": 13,
     "metadata": {},
     "output_type": "execute_result"
    }
   ],
   "source": [
    "8 in fibonacci_generator(10)"
   ]
  },
  {
   "cell_type": "code",
   "execution_count": 14,
   "metadata": {},
   "outputs": [
    {
     "data": {
      "text/plain": [
       "False"
      ]
     },
     "execution_count": 14,
     "metadata": {},
     "output_type": "execute_result"
    }
   ],
   "source": [
    "10 in fibonacci_generator(10)"
   ]
  },
  {
   "cell_type": "markdown",
   "metadata": {},
   "source": [
    "Let's modify above loop in order to print Fibonacci Numbers with numbering"
   ]
  },
  {
   "cell_type": "code",
   "execution_count": 16,
   "metadata": {},
   "outputs": [
    {
     "name": "stdout",
     "output_type": "stream",
     "text": [
      "Fib(0)=2\n",
      "Fib(1)=3\n",
      "Fib(2)=5\n",
      "Fib(3)=8\n",
      "Fib(4)=13\n",
      "Fib(5)=21\n",
      "Fib(6)=34\n",
      "Fib(7)=55\n",
      "Fib(8)=89\n",
      "Fib(9)=144\n"
     ]
    }
   ],
   "source": [
    "for i,num in enumerate(fibonacci_generator(10,a = 2, b = 3)):\n",
    "    print('Fib({})={}'.format(i,num))"
   ]
  },
  {
   "cell_type": "markdown",
   "metadata": {},
   "source": [
    "`enumerate()` function takes an iterable object as an argument and returns an iterator which is the original iterator enumerated."
   ]
  }
 ],
 "metadata": {
  "kernelspec": {
   "display_name": "Python 3",
   "language": "python",
   "name": "python3"
  },
  "language_info": {
   "codemirror_mode": {
    "name": "ipython",
    "version": 3
   },
   "file_extension": ".py",
   "mimetype": "text/x-python",
   "name": "python",
   "nbconvert_exporter": "python",
   "pygments_lexer": "ipython3",
   "version": "3.6.1"
  }
 },
 "nbformat": 4,
 "nbformat_minor": 2
}

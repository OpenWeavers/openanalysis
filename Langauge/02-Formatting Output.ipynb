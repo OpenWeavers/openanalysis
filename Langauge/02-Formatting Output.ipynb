{
 "cells": [
  {
   "cell_type": "markdown",
   "metadata": {},
   "source": [
    "# Formatting Output\n",
    "In `C` Language, we had `printf()` function to display a formatted string to `stdout`. We also had format specifiers like `%s` for string, `%d` for integers and so on...\n",
    "\n",
    "In Python, there are many ways to format a string, We shall have a look at each way."
   ]
  },
  {
   "cell_type": "markdown",
   "metadata": {},
   "source": [
    "Python provides '%' as String formatting operator, which has to be used with `C` style format specifiers. General usage of this operator is as follows.\n",
    "\n",
    "    result = format_string % collection_of_items\n",
    "    \n",
    "Now Let's see the Formatting Operator in action\n"
   ]
  },
  {
   "cell_type": "code",
   "execution_count": 16,
   "metadata": {},
   "outputs": [
    {
     "data": {
      "text/plain": [
       "'8 = 8 , 8.5 = 8.5, name = Ravi, 3 = 0003'"
      ]
     },
     "execution_count": 16,
     "metadata": {},
     "output_type": "execute_result"
    }
   ],
   "source": [
    "'8 = %d , 8.5 = %.1f, name = %s, 3 = %04d' % (8,8.5,'Ravi',3)"
   ]
  },
  {
   "cell_type": "markdown",
   "metadata": {},
   "source": [
    "There is one more way to format, without the hassle of remembering the format specifiers. You can use `format()` method of the current string. Same output of above example can be obtained as follows"
   ]
  },
  {
   "cell_type": "code",
   "execution_count": 18,
   "metadata": {},
   "outputs": [
    {
     "data": {
      "text/plain": [
       "'8 = 8, 8.5 = 8.5, name = Ravi, 3 = 0003'"
      ]
     },
     "execution_count": 18,
     "metadata": {},
     "output_type": "execute_result"
    }
   ],
   "source": [
    "'8 = {}, 8.5 = {}, name = {}, 3 = {:04}'.format(8,8.5,'Ravi',3)"
   ]
  },
  {
   "cell_type": "markdown",
   "metadata": {},
   "source": [
    "If the number of items to be formatted goes long, it would become hard to remember their positions. You can name each entry in format string, and refer to them in the call to `format()` as shown below. Note that the order of items can be changed now as the items are only referred by name."
   ]
  },
  {
   "cell_type": "code",
   "execution_count": 19,
   "metadata": {},
   "outputs": [
    {
     "data": {
      "text/plain": [
       "'8 = 8, 8.5 = 8.5, name = Ravi, 3 = 0003'"
      ]
     },
     "execution_count": 19,
     "metadata": {},
     "output_type": "execute_result"
    }
   ],
   "source": [
    "'8 = {a}, 8.5 = {b}, name = {c}, 3 = {d:04}'.format(a=8,c='Ravi',d=3,b=8.5)"
   ]
  },
  {
   "cell_type": "markdown",
   "metadata": {},
   "source": [
    "-----------\n",
    "**Note**: \n",
    "- In `C` and other related languages, `''` is used to refer character and `\"\"` is used to refer string. But in Python, both refer to string. In Python single character is also a string\n",
    "- Know more about Python String Formatting at [PyFormat](https://pyformat.info/)"
   ]
  }
 ],
 "metadata": {
  "kernelspec": {
   "display_name": "Python 3",
   "language": "python",
   "name": "python3"
  },
  "language_info": {
   "codemirror_mode": {
    "name": "ipython",
    "version": 3
   },
   "file_extension": ".py",
   "mimetype": "text/x-python",
   "name": "python",
   "nbconvert_exporter": "python",
   "pygments_lexer": "ipython3",
   "version": "3.6.1"
  }
 },
 "nbformat": 4,
 "nbformat_minor": 2
}

{
 "cells": [
  {
   "cell_type": "markdown",
   "metadata": {},
   "source": [
    "# Introduction to Python"
   ]
  },
  {
   "cell_type": "markdown",
   "metadata": {},
   "source": [
    "## What is Python?\n",
    "Python is a widely used high-level programming language for general-purpose programming, created by Guido van Rossum and first released in 1991. An interpreted language, Python has a design philosophy which emphasizes code readability (notably using whitespace indentation to delimit code blocks rather than curly brackets or keywords), and a syntax which allows programmers to express concepts in fewer lines of code than might be used in languages such as C++ or Java. The language provides constructs intended to enable writing clear programs on both a small and large scale."
   ]
  },
  {
   "cell_type": "markdown",
   "metadata": {},
   "source": [
    "## Pre - Requisities \n",
    "We assume that you have\n",
    "   - Basic understanding of what computer does and what computer programs do\n",
    "   - Knowledge of `C` Language\n",
    "   - Knowledge of Object Oriented Concepts like Objects,Classes,Inheritance,Polymorphism ...\n",
    "   - Knowledge of any Object Oriented Language like `C++`,`Java` or `C#`\n",
    "\n",
    "These Software must be installed to follow the Language tutorial.\n",
    "   - Python 3 (Download from [Python Website](https://www.python.org/) or `apt install` it )\n",
    "   - IPython 3 (An interactive Python Shell, Download from [IPython Project Site](https://ipython.org/) or `apt install` it)\n",
    "\n",
    "We will be using several libraries throughout the tutorial. They can be installed with `pip` (or `pip3`) as\n",
    "`pip install <library-name>`. Following is a list of libraries that has to be installed to follow the tutorial.\n",
    "   - `matplotlib` (For visualizing data sets)\n",
    "   - `numpy` (For faster array operations)\n",
    "   - `seaborn` (For enhancing `matplotlib` graphs, automatically installs `scipy`<sup>1</sup> and `pandas`)\n",
    "   - `networkx` (Provides Graph Data Structure)\n",
    "\n",
    "<sup>1</sup> Installation of `scipy` via `pip` may fail in Windows. Follow this [guide](https://www.scipy.org/install.html) to make it work"
   ]
  },
  {
   "cell_type": "markdown",
   "metadata": {},
   "source": [
    "## Your First Program\n",
    "\n",
    "As a tradition, we start with a program to display `Hello World` on the Console Screen (or the `stdout`)\n",
    "\n",
    "Open the Interative Python Shell by typing `ipython`(or `ipython3`) from the terminal.\n",
    "If everything goes well, you will get a prompt where you can enter statements and see the effect of it. Noow enter the following statement to get started"
   ]
  },
  {
   "cell_type": "code",
   "execution_count": 1,
   "metadata": {},
   "outputs": [
    {
     "name": "stdout",
     "output_type": "stream",
     "text": [
      "Hello World\n"
     ]
    }
   ],
   "source": [
    "print(\"Hello World\")"
   ]
  },
  {
   "cell_type": "markdown",
   "metadata": {},
   "source": [
    "Congrats! ... You have successfully executed your first statement in python. In fact there are many ways to execute python statements. Interactive Console is one of them. You can also pack the statements into single file, whose name ends with an extension `.py`, you can call `python` (or `python3`) to execute them. We will also check this method to execute python statements. Save the contents of below cell into a file named `first.py`.\n",
    "\n",
    "Run this command to execute the file\n",
    "\n",
    "`python3 file.py`"
   ]
  },
  {
   "cell_type": "code",
   "execution_count": 2,
   "metadata": {},
   "outputs": [
    {
     "name": "stdout",
     "output_type": "stream",
     "text": [
      "Hello World\n",
      "Hi from Python File\n"
     ]
    }
   ],
   "source": [
    "print(\"Hello World\")\n",
    "print(\"Hi from Python File\")"
   ]
  },
  {
   "cell_type": "markdown",
   "metadata": {},
   "source": [
    "-----------\n",
    "**Note**: The usage of `print()` function is\n",
    "\n",
    "    print(list_of_values[,sep,end])\n",
    "    \n",
    "- `sep` is the seperator string to be printed in between `value`s in `list_of_values`\n",
    "- `end` is the terminating string that has to be printed after `list_of_values`\n",
    "\n",
    "\n",
    "Example:"
   ]
  },
  {
   "cell_type": "code",
   "execution_count": 40,
   "metadata": {},
   "outputs": [
    {
     "name": "stdout",
     "output_type": "stream",
     "text": [
      "a:b:c,e.f.g\n"
     ]
    }
   ],
   "source": [
    "print('a','b','c',sep=':',end=',')\n",
    "print('e','f','g',sep='.')"
   ]
  }
 ],
 "metadata": {
  "kernelspec": {
   "display_name": "Python 3",
   "language": "python",
   "name": "python3"
  },
  "language_info": {
   "codemirror_mode": {
    "name": "ipython",
    "version": 3
   },
   "file_extension": ".py",
   "mimetype": "text/x-python",
   "name": "python",
   "nbconvert_exporter": "python",
   "pygments_lexer": "ipython3",
   "version": "3.5.3"
  }
 },
 "nbformat": 4,
 "nbformat_minor": 2
}
